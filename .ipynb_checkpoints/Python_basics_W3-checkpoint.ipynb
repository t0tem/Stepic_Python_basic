{
 "cells": [
  {
   "cell_type": "code",
   "execution_count": 1,
   "metadata": {},
   "outputs": [
    {
     "data": {
      "text/plain": [
       "10555"
      ]
     },
     "execution_count": 1,
     "metadata": {},
     "output_type": "execute_result"
    }
   ],
   "source": [
    "def f(n):\n",
    "    return n * 10 + 5\n",
    "\n",
    "f(f(f(10)))"
   ]
  },
  {
   "cell_type": "markdown",
   "metadata": {},
   "source": [
    "Напишите функцию f(x), которая возвращает значение следующей функции, определённой на всей числовой прямой  \n",
    "f(x)=\\begin{cases}1-(x + 2)^2,\\quad &\\text{при } x\\le -2\\\\-\\frac x2 ,\\quad &\\text{при } -2 \\lt  x \\le 2\\\\(x-2)^2 + 1,\\quad &\\text{при }2 \\lt x\\end{cases}\n",
    "Требуется реализовать только функцию, решение не должно осуществлять операций ввода-вывода."
   ]
  },
  {
   "cell_type": "code",
   "execution_count": 4,
   "metadata": {
    "collapsed": true
   },
   "outputs": [],
   "source": [
    "def f(x):\n",
    "    if x <= -2:\n",
    "        return 1 - (x+2)**2\n",
    "    elif -2 < x <= 2:\n",
    "        return -x/2\n",
    "    else:\n",
    "        return (x-2)**2+1"
   ]
  },
  {
   "cell_type": "markdown",
   "metadata": {},
   "source": [
    "Напишите функцию modify_list(l), которая принимает на вход список целых чисел, удаляет из него все нечётные значения, а чётные нацело делит на два. Функция не должна ничего возвращать, требуется только изменение переданного списка, например:\n",
    "```\n",
    "lst = [1, 2, 3, 4, 5, 6]\n",
    "print(modify_list(lst))  # None\n",
    "print(lst)               # [1, 2, 3]\n",
    "modify_list(lst)\n",
    "print(lst)               # [1]\n",
    "\n",
    "lst = [10, 5, 8, 3]\n",
    "modify_list(lst)\n",
    "print(lst)               # [5, 4]\n",
    "```\n",
    "Функция не должна осуществлять ввод/вывод информации."
   ]
  },
  {
   "cell_type": "code",
   "execution_count": 24,
   "metadata": {
    "collapsed": true
   },
   "outputs": [],
   "source": [
    "def modify_list(l):\n",
    "    # put your python code here  \n",
    "    i = len(l)-1\n",
    "    while i > -1:\n",
    "        if l[i]%2 != 0:\n",
    "            del l[i]\n",
    "        else:\n",
    "            l[i] = int(l[i]/2)\n",
    "        i -= 1\n",
    "    "
   ]
  },
  {
   "cell_type": "code",
   "execution_count": 27,
   "metadata": {
    "collapsed": true
   },
   "outputs": [],
   "source": [
    "# не мое\n",
    "def modify_list(l):\n",
    "    l[:] = [i//2 for i in l if not i % 2]"
   ]
  },
  {
   "cell_type": "raw",
   "metadata": {},
   "source": [
    "второе - это обычный генератор списка с условием, можно в интернете почитать.\n",
    "первое - тут логика такая, так как список l в памяти уже есть и его нужно перезаписать, то есть изменить сам объект списка, поэтому тут я делаю срез всего списка от начала до конца и меняю сам объект. если написать просто l = [i//2 for i in l if not i % 2] в данном случае будет создан новый объект, под него выделена память и переменная l будет уже ссылаться на него, а старая ссылка на исходный объект списка сотрется. т.е происходит не изменение объекта, а перенаправление ссылки у переменной l. я не проверял может и такой вариант сработает но подумал что он учтет занимаемую память и выдаст ошибку, так как была задача одна и там подобный подход выдавал ошибку, а сделал l[:] (изменил сам весь объект) все заработало"
   ]
  },
  {
   "cell_type": "code",
   "execution_count": 33,
   "metadata": {
    "collapsed": true
   },
   "outputs": [],
   "source": [
    "# не мое 2\n",
    "def modify_list(l):\n",
    "    for x in l[:]:\n",
    "        if x % 2 == 0:\n",
    "            l.append(x//2)\n",
    "        l.remove(x)"
   ]
  },
  {
   "cell_type": "raw",
   "metadata": {},
   "source": [
    "По факту собираем новый список прямо в хвосте предыдущего, добавляя в конец списка чётные числа, поделенные на 2, а все исходные элементы списка - удаляем.\n",
    "\n",
    "for x in l[:] - перебор элементов ведём по копии списка, полученной с помощью среза, т.к. исходный список мы меняем прямо во время прохода, а в этом случае простой поэлементный перебор \"ломается\"."
   ]
  },
  {
   "cell_type": "raw",
   "metadata": {
    "collapsed": true
   },
   "source": [
    "Напишите функцию update_dictionary(d, key, value), которая принимает на вход словарь d и два числа: key и value.\n",
    "\n",
    "Если ключ key есть в словаре d, то добавьте значение value в список, который хранится по этому ключу. \n",
    "Если ключа key нет в словаре, то нужно добавить значение в список по ключу 2⋅key. Если и ключа 2⋅key нет, \n",
    "то нужно добавить ключ 2⋅key в словарь и сопоставить ему список из переданного элемента [value].\n",
    "\n",
    "Требуется реализовать только эту функцию, кода вне неё не должно быть.\n",
    "Функция не должна вызывать внутри себя функции input и print.\n",
    "\n",
    "Пример работы функции:\n",
    "```\n",
    "d = {}\n",
    "print(update_dictionary(d, 1, -1))  # None\n",
    "print(d)                            # {2: [-1]}\n",
    "update_dictionary(d, 2, -2)\n",
    "print(d)                            # {2: [-1, -2]}\n",
    "update_dictionary(d, 1, -3)\n",
    "print(d)                            # {2: [-1, -2, -3]}\n",
    "```"
   ]
  },
  {
   "cell_type": "code",
   "execution_count": 23,
   "metadata": {
    "collapsed": true
   },
   "outputs": [],
   "source": [
    "def update_dictionary(d, key, value):\n",
    "    if key in d:\n",
    "        d[key].append(value)\n",
    "    elif 2*key in d:\n",
    "        d[2*key].append(value)\n",
    "    else:\n",
    "        d[2*key] = [value]        "
   ]
  },
  {
   "cell_type": "code",
   "execution_count": 24,
   "metadata": {},
   "outputs": [
    {
     "name": "stdout",
     "output_type": "stream",
     "text": [
      "None\n",
      "{2: [-1]}\n",
      "{2: [-1, -2]}\n",
      "{2: [-1, -2, -3]}\n"
     ]
    }
   ],
   "source": [
    "d = {}\n",
    "print(update_dictionary(d, 1, -1))  # None\n",
    "print(d)                            # {2: [-1]}\n",
    "update_dictionary(d, 2, -2)\n",
    "print(d)                            # {2: [-1, -2]}\n",
    "update_dictionary(d, 1, -3)\n",
    "print(d) "
   ]
  },
  {
   "cell_type": "raw",
   "metadata": {
    "collapsed": true
   },
   "source": [
    "Когда Антон прочитал «Войну и мир», ему стало интересно, сколько слов и в каком количестве используется в этой книге.\n",
    "\n",
    "Помогите Антону написать упрощённую версию такой программы, которая сможет подсчитать слова, разделённые пробелом и вывести получившуюся статистику.\n",
    "\n",
    "Программа должна считывать одну строку со стандартного ввода и выводить для каждого уникального слова в этой строке число его повторений (без учёта регистра) в формате \"слово количество\" (см. пример вывода). \n",
    "Порядок вывода слов может быть произвольным, каждое уникальное слово должно выводиться только один раз."
   ]
  },
  {
   "cell_type": "code",
   "execution_count": 35,
   "metadata": {},
   "outputs": [
    {
     "name": "stdout",
     "output_type": "stream",
     "text": [
      "a aa abC aa ac abc bcd a\n",
      "a 2\n",
      "aa 2\n",
      "abc 2\n",
      "ac 1\n",
      "bcd 1\n"
     ]
    }
   ],
   "source": [
    "l = [i.lower() for i in input().split()]   \n",
    "res = {}\n",
    "for i in l:\n",
    "    if i not in res: \n",
    "        res[i] = 1\n",
    "    else:\n",
    "        res[i] +=1\n",
    "\n",
    "for k, v in res.items():\n",
    "    print(k, v)\n"
   ]
  },
  {
   "cell_type": "code",
   "execution_count": 28,
   "metadata": {
    "collapsed": true
   },
   "outputs": [],
   "source": [
    "res = {\"a\": 1}"
   ]
  },
  {
   "cell_type": "code",
   "execution_count": 29,
   "metadata": {
    "collapsed": true
   },
   "outputs": [],
   "source": [
    "res['a'] += 1"
   ]
  },
  {
   "cell_type": "code",
   "execution_count": 30,
   "metadata": {},
   "outputs": [
    {
     "data": {
      "text/plain": [
       "{'a': 2}"
      ]
     },
     "execution_count": 30,
     "metadata": {},
     "output_type": "execute_result"
    }
   ],
   "source": [
    "res"
   ]
  },
  {
   "cell_type": "raw",
   "metadata": {},
   "source": [
    "Имеется реализованная функция f(x), принимающая на вход целое число xx, которая вычисляет некоторое целочисленое значение и возвращает его в качестве результата работы.\n",
    "\n",
    "Функция вычисляется достаточно долго, ничего не выводит на экран, не пишет в файлы и зависит только от переданного аргумента x.\n",
    "\n",
    "Напишите программу, которой на вход в первой строке подаётся число n — количество значений x, для которых требуется узнать значение функции f(x), после чего сами эти n значений, каждое на отдельной строке. Программа должна после каждого введённого значения аргумента вывести соответствующие значения функции f на отдельной строке. \n",
    "\n",
    "Для ускорения вычисления необходимо сохранять уже вычисленные значения функции при известных аргументах.\n",
    "\n",
    "Обратите внимание, что в этой задаче установлено достаточно сильное ограничение в две секунды по времени исполнения кода на тесте. "
   ]
  },
  {
   "cell_type": "code",
   "execution_count": 42,
   "metadata": {},
   "outputs": [
    {
     "name": "stdout",
     "output_type": "stream",
     "text": [
      "1\n",
      "1\n",
      "2\n"
     ]
    }
   ],
   "source": [
    "def f(x): return x + 1\n",
    "n = int(input())\n",
    "x = []\n",
    "for i in range(n):\n",
    "    x.append(int(input()))\n",
    "\n",
    "res = {}\n",
    "for i in x:\n",
    "    if i not in res:\n",
    "        res[i] = f(i)\n",
    "    print(res[i])"
   ]
  },
  {
   "cell_type": "code",
   "execution_count": 41,
   "metadata": {},
   "outputs": [
    {
     "name": "stdout",
     "output_type": "stream",
     "text": [
      "1\n",
      "1\n",
      "2\n"
     ]
    }
   ],
   "source": [
    "def f(x): return x + 1\n",
    "# не мое\n",
    "n=int(input())\n",
    "d={}\n",
    "for i in range(n):\n",
    "    x=int(input())\n",
    "    if x not in d:\n",
    "        d[x]=f(x)   \n",
    "    print(d[x])"
   ]
  },
  {
   "cell_type": "code",
   "execution_count": 49,
   "metadata": {},
   "outputs": [],
   "source": [
    "s = open(\"dataset_3363_2.txt\", \"r\").readline().strip() #reading file\n",
    "\n",
    "letters = []\n",
    "numbers = []\n",
    "for i in range(len(s)): #splitting on 2 lists (letters & numbers)\n",
    "    if not s[i].isdigit(): \n",
    "        letters.append(s[i])\n",
    "    else:\n",
    "        if not s[i-1].isdigit():\n",
    "            numbers.append(s[i])\n",
    "        else:\n",
    "            numbers[len(numbers)-1] += s[i]\n",
    "\n",
    "s_out = \"\"\n",
    "for i in range(len(letters)):\n",
    "    s_out += letters[i]*int(numbers[i])\n",
    "    \n",
    "with open(\"out.txt\", \"w\") as ouf:\n",
    "    ouf.write(s_out + \"\\n\")\n",
    "   "
   ]
  },
  {
   "cell_type": "raw",
   "metadata": {
    "collapsed": true
   },
   "source": [
    "0,2,4,7,10,13,16,19,21,23,26,28,30,33,35,38,41,44,46,49,51,53,56,58,60,62"
   ]
  },
  {
   "cell_type": "raw",
   "metadata": {},
   "source": [
    "Напишите программу, которая считывает текст из файла (в файле может быть больше одной строки) и выводит самое частое слово в этом тексте и через пробел то, сколько раз оно встретилось. Если таких слов несколько, вывести лексикографически первое (можно использовать оператор < для строк).\n",
    "\n",
    "Слова, написанные в разных регистрах, считаются одинаковыми."
   ]
  },
  {
   "cell_type": "code",
   "execution_count": 84,
   "metadata": {},
   "outputs": [],
   "source": [
    "s = \"\"\n",
    "with open(\"dataset_3363_3.txt\") as inf:\n",
    "    for line in inf:\n",
    "        s += (line.strip() + \" \")\n",
    "s = s.lower().split()\n",
    "m = [s[0], 1] #initiating max word\n",
    "d = {s[0] : 1} #global dict for count\n",
    "\n",
    "for i in range(1, len(s)):\n",
    "    if s[i] in d:\n",
    "        d[s[i]] += 1\n",
    "    else:\n",
    "        d[s[i]] = 1\n",
    "    \n",
    "    if d[s[i]] > m[1] or (d[s[i]] == m[1] and s[i] < m[0]):\n",
    "        m[0] = s[i]\n",
    "        m[1] = d[s[i]]        \n",
    "        \n",
    "with open(\"out2.txt\", \"w\") as ouf:\n",
    "    ouf.write(m[0] + \" \" + str(m[1]) + \"\\n\")\n"
   ]
  },
  {
   "cell_type": "code",
   "execution_count": 96,
   "metadata": {},
   "outputs": [
    {
     "name": "stdout",
     "output_type": "stream",
     "text": [
      "pb 9\n"
     ]
    }
   ],
   "source": [
    "# не мое\n",
    "t = open('dataset_3363_3.txt', 'r')\n",
    "s = t.read().lower().strip().split()\n",
    "y = 0\n",
    "m =''\n",
    "for i in s: # не учтено вот это \"...Если таких слов несколько, вывести лексикографически первое...\"\n",
    "    z = s.count(i)\n",
    "    if z >= y:\n",
    "        y = z\n",
    "        m = i\n",
    "print(m, y)"
   ]
  },
  {
   "cell_type": "raw",
   "metadata": {},
   "source": [
    "Имеется файл с данными по успеваемости абитуриентов. Он представляет из себя набор строк, \n",
    "где в каждой строке записана следующая информация:\n",
    "\n",
    "Фамилия;Оценка_по_математике;Оценка_по_физике;Оценка_по_русскому_языку\n",
    "\n",
    "Поля внутри строки разделены точкой с запятой, оценки — целые числа.\n",
    "Напишите программу, которая считывает файл с подобной структурой и для каждого абитуриента выводит его среднюю оценку по этим трём предметам на отдельной строке, соответствующей этому абитуриенту.\n",
    "\n",
    "Также в конце файла, на отдельной строке, через пробел запишите средние баллы по математике, физике и русскому языку по всем абитуриентам."
   ]
  },
  {
   "cell_type": "code",
   "execution_count": 131,
   "metadata": {},
   "outputs": [],
   "source": [
    "l = []\n",
    "with open('dataset_3363_4.txt', 'r') as f:\n",
    "    for line in f:\n",
    "        l += [line.strip().split(\";\")]\n",
    "l = [[student, int(math), int(phys), int(rus)] for student, math, phys, rus in l]\n",
    "\n",
    "by_student = [(math + phys + rus)/3 for student, math, phys, rus in l]\n",
    "\n",
    "av_math = sum([math for student, math, phys, rus in l]) / len(l)\n",
    "av_phys = sum([phys for student, math, phys, rus in l]) / len(l)\n",
    "av_rus = sum([rus for student, math, phys, rus in l]) / len(l)\n",
    "\n",
    "with open(\"out4.txt\", \"w\") as ouf:\n",
    "    for i in by_student:\n",
    "        ouf.write(str(i) + \"\\n\")\n",
    "    ouf.write(str(av_math) + \" \")\n",
    "    ouf.write(str(av_phys) + \" \")\n",
    "    ouf.write(str(av_rus) + \"\\n\")"
   ]
  },
  {
   "cell_type": "code",
   "execution_count": 136,
   "metadata": {},
   "outputs": [],
   "source": [
    "# не мое\n",
    "num = 0\n",
    "sums = [0, 0, 0]\n",
    "\n",
    "with open(\"out4_1.txt\", \"w\") as out:\n",
    "    with open(\"dataset_3363_4.txt\", \"r\") as inp:\n",
    "        for line in inp:\n",
    "            lst = line.split(\";\")\n",
    "            average = 0\n",
    "            for i in range(3):\n",
    "                a = int(lst[i + 1])\n",
    "                average += a\n",
    "                sums[i] += a\n",
    "            average /= 3\n",
    "            out.write(str(average) + \"\\n\")\n",
    "            num += 1\n",
    "    for s in sums:\n",
    "        out.write(str(s / num) + \" \")\n",
    "    out.write(\"\\n\")"
   ]
  },
  {
   "cell_type": "code",
   "execution_count": null,
   "metadata": {
    "collapsed": true
   },
   "outputs": [],
   "source": []
  }
 ],
 "metadata": {
  "kernelspec": {
   "display_name": "Python 3",
   "language": "python",
   "name": "python3"
  },
  "language_info": {
   "codemirror_mode": {
    "name": "ipython",
    "version": 3
   },
   "file_extension": ".py",
   "mimetype": "text/x-python",
   "name": "python",
   "nbconvert_exporter": "python",
   "pygments_lexer": "ipython3",
   "version": "3.6.2"
  }
 },
 "nbformat": 4,
 "nbformat_minor": 2
}
