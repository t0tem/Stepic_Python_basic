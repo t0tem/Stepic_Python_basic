{
 "cells": [
  {
   "cell_type": "code",
   "execution_count": 3,
   "metadata": {},
   "outputs": [
    {
     "name": "stdout",
     "output_type": "stream",
     "text": [
      "5 4 3 2 1 "
     ]
    }
   ],
   "source": [
    "a = 5\n",
    "while a > 0:\n",
    "    print(a, end = \" \")\n",
    "    a -= 1"
   ]
  },
  {
   "cell_type": "code",
   "execution_count": 4,
   "metadata": {},
   "outputs": [
    {
     "name": "stdout",
     "output_type": "stream",
     "text": [
      "*\n",
      "**\n",
      "*\n",
      "*\n",
      "**\n",
      "*\n",
      "***\n",
      "*\n",
      "**\n",
      "***\n"
     ]
    }
   ],
   "source": [
    "i = 0\n",
    "while i < 5:\n",
    "    print('*')\n",
    "    if i % 2 == 0:\n",
    "        print('**')\n",
    "    if i > 2:\n",
    "        print('***')\n",
    "    i = i + 1"
   ]
  },
  {
   "cell_type": "code",
   "execution_count": 5,
   "metadata": {},
   "outputs": [
    {
     "name": "stdout",
     "output_type": "stream",
     "text": [
      "17\n"
     ]
    }
   ],
   "source": [
    "#не мое\n",
    "i = 0\n",
    "count =''\n",
    "while i < 5:\n",
    "    count +='*'\n",
    "    if i % 2 == 0:\n",
    "        count +='**'\n",
    "    if i > 2:\n",
    "        count +='***'\n",
    "    i = i + 1\n",
    "\n",
    "print(len(count))\n"
   ]
  },
  {
   "cell_type": "code",
   "execution_count": 7,
   "metadata": {},
   "outputs": [
    {
     "name": "stdout",
     "output_type": "stream",
     "text": [
      "0\n",
      "0\n"
     ]
    }
   ],
   "source": [
    "'''\n",
    "Напишите программу, которая считывает со стандартного ввода целые числа, \n",
    "по одному числу в строке, и после первого введенного нуля выводит сумму полученных на вход чисел.\n",
    "'''\n",
    "\n",
    "s = 0\n",
    "a = int(input())\n",
    "while a != 0:\n",
    "    s += a\n",
    "    a = int(input())\n",
    "print(s)"
   ]
  },
  {
   "cell_type": "code",
   "execution_count": 20,
   "metadata": {},
   "outputs": [
    {
     "name": "stdout",
     "output_type": "stream",
     "text": [
      "2\n",
      "3\n",
      "6\n"
     ]
    }
   ],
   "source": [
    "'''\n",
    "Программа должна считывать размеры команд (два положительных целых числа a и b, \n",
    "каждое число вводится на отдельной строке) и выводить наименьшее число d, \n",
    "которое делится на оба этих числа без остатка.\n",
    "'''\n",
    "\n",
    "a, b = int(input()), int(input())\n",
    "d = a\n",
    "while d%a or d%b:\n",
    "    d += 1\n",
    "print(d)"
   ]
  },
  {
   "cell_type": "code",
   "execution_count": 21,
   "metadata": {},
   "outputs": [
    {
     "name": "stdout",
     "output_type": "stream",
     "text": [
      "2\n",
      "3\n",
      "6\n"
     ]
    }
   ],
   "source": [
    "#не мое\n",
    "a = int(input())\n",
    "b = int(input())\n",
    "d = a\n",
    "while d%b:\n",
    "    d += a\n",
    "print(d)"
   ]
  },
  {
   "cell_type": "code",
   "execution_count": 26,
   "metadata": {},
   "outputs": [
    {
     "name": "stdout",
     "output_type": "stream",
     "text": [
      "0 0 \n"
     ]
    }
   ],
   "source": [
    "i = 0\n",
    "while i < 5:\n",
    "    a, b = input().split() #тогда с пробелом\n",
    "    a = int(a)\n",
    "    b = int(b)\n",
    "    if a == 0 and b == 0:\n",
    "        break\n",
    "    print(a*b)\n",
    "    i += 1"
   ]
  },
  {
   "cell_type": "code",
   "execution_count": 27,
   "metadata": {
    "scrolled": true
   },
   "outputs": [
    {
     "data": {
      "text/plain": [
       "7"
      ]
     },
     "execution_count": 27,
     "metadata": {},
     "output_type": "execute_result"
    }
   ],
   "source": [
    "i = 0\n",
    "s = 0\n",
    "while i < 10:\n",
    "    i = i + 1\n",
    "    s = s + i\n",
    "    if s > 15:\n",
    "        break\n",
    "    i = i + 1\n",
    "i"
   ]
  },
  {
   "cell_type": "code",
   "execution_count": 28,
   "metadata": {
    "scrolled": false
   },
   "outputs": [
    {
     "data": {
      "text/plain": [
       "10"
      ]
     },
     "execution_count": 28,
     "metadata": {},
     "output_type": "execute_result"
    }
   ],
   "source": [
    "i = 0\n",
    "s = 0\n",
    "while i < 10:\n",
    "    i = i + 1\n",
    "    s = s + i\n",
    "    if s > 15:\n",
    "        continue\n",
    "    i = i + 1\n",
    "i"
   ]
  },
  {
   "cell_type": "code",
   "execution_count": 30,
   "metadata": {},
   "outputs": [
    {
     "name": "stdout",
     "output_type": "stream",
     "text": [
      "112\n",
      "112\n"
     ]
    }
   ],
   "source": [
    "'''\n",
    "Для каждого введённого числа проверить:\n",
    "если число меньше 10, то пропускаем это число;\n",
    "если число больше 100, то прекращаем считывать числа;\n",
    "в остальных случаях вывести это число обратно на консоль в отдельной строке.\n",
    "'''\n",
    "n = 0\n",
    "while n <= 100:\n",
    "    n = int(input())\n",
    "    if n < 10:\n",
    "        continue\n",
    "    elif n > 100:\n",
    "        break\n",
    "    else:\n",
    "        print(n)"
   ]
  },
  {
   "cell_type": "code",
   "execution_count": 31,
   "metadata": {},
   "outputs": [
    {
     "name": "stdout",
     "output_type": "stream",
     "text": [
      "1\n",
      "1\n",
      "1\n",
      "22\n",
      "22\n",
      "22\n",
      "22\n",
      "22\n",
      "22\n",
      "101\n"
     ]
    }
   ],
   "source": [
    "#не мое\n",
    "a = 0\n",
    "while a <= 100:\n",
    "    a = int(input())\n",
    "    if 10 <= a <= 100:\n",
    "        print(a)"
   ]
  },
  {
   "cell_type": "code",
   "execution_count": 21,
   "metadata": {},
   "outputs": [
    {
     "name": "stdout",
     "output_type": "stream",
     "text": [
      "1\n",
      "4\n",
      "5\n",
      "9\n",
      "\t5\t6\t7\t8\t9\n",
      "1\t5\t6\t7\t8\t9\n",
      "2\t10\t12\t14\t16\t18\n",
      "3\t15\t18\t21\t24\t27\n",
      "4\t20\t24\t28\t32\t36\n"
     ]
    }
   ],
   "source": [
    "'''\n",
    "Напишите программу, на вход которой даются четыре числа a, b, c и d, каждое в своей строке. \n",
    "Программа должна вывести фрагмент таблицы умножения для всех чисел \n",
    "отрезка [a;b] на все числа отрезка [c;d]\n",
    "'''\n",
    "a,b,c,d = int(input()),int(input()),int(input()),int(input())\n",
    "\n",
    "for j in range(c, d + 1):\n",
    "    print(\"\\t\", j, sep = \"\", end = \"\")\n",
    "print()\n",
    "\n",
    "for i in range(a, b + 1):\n",
    "    print(i, end = \"\")\n",
    "    for j in range(c, d + 1):\n",
    "        print(\"\\t\", i*j, sep = \"\", end = \"\")\n",
    "    print()\n"
   ]
  },
  {
   "cell_type": "code",
   "execution_count": 23,
   "metadata": {},
   "outputs": [
    {
     "name": "stdout",
     "output_type": "stream",
     "text": [
      "-5\n",
      "12\n",
      "4.5\n"
     ]
    }
   ],
   "source": [
    "'''\n",
    "Напишите программу, которая считывает с клавиатуры два числа a и b, считает и выводит на консоль \n",
    "среднее арифметическое всех чисел из отрезка [a;b], которые делятся на 3.\n",
    "\n",
    "В приведенном ниже примере среднее арифметическое считается для чисел на отрезке [−5;12]. Всего чисел, \n",
    "делящихся на 3, на этом отрезке 6: −3,0,3,6,9,12. Их среднее арифметическое равно 4.5\n",
    "На вход программе подаются интервалы, внутри которых всегда есть хотя бы одно число, которое делится на 3\n",
    "'''\n",
    "a, b = int(input()),int(input())\n",
    "s = 0\n",
    "count = 0\n",
    "for i in range(a, b + 1):\n",
    "    if i % 3 == 0:\n",
    "        s += i\n",
    "        count += 1\n",
    "print(s/count)"
   ]
  },
  {
   "cell_type": "code",
   "execution_count": 33,
   "metadata": {},
   "outputs": [
    {
     "name": "stdout",
     "output_type": "stream",
     "text": [
      "asasa\n",
      "0.0\n"
     ]
    }
   ],
   "source": [
    "'''\n",
    "Напишите программу, которая вычисляет процентное содержание символов G (гуанин) и C (цитозин) \n",
    "в введенной строке (программа не должна зависеть от регистра вводимых символов).\n",
    "Например, в строке \"acggtgttat\" процентное содержание символов G и C равно 4/10⋅100=40.0\n",
    ", где 4 -- это количество символов G и C,  а 10 -- это длина строки.\n",
    "'''\n",
    "s = input()\n",
    "print(\n",
    "    (s.lower().count(\"c\") + \n",
    "     s.lower().count(\"g\"))\n",
    "    /len(s)*100)"
   ]
  },
  {
   "cell_type": "code",
   "execution_count": 67,
   "metadata": {},
   "outputs": [
    {
     "name": "stdout",
     "output_type": "stream",
     "text": [
      "a4b2сa3Ac\n"
     ]
    }
   ],
   "source": [
    "'''\n",
    "Кодирование осуществляется следующим образом:\n",
    "s = 'aaaabbсaa' преобразуется в 'a4b2с1a2', то есть группы \n",
    "одинаковых символов исходной строки заменяются на этот символ и \n",
    "количество его повторений в этой позиции строки.\n",
    "\n",
    "Напишите программу, которая считывает строку, кодирует её \n",
    "предложенным алгоритмом и выводит закодированную последовательность \n",
    "на стандартный вывод. Кодирование должно учитывать регистр символов.\n",
    "'''\n",
    "\n",
    "s = 'aaaabbсaaaAc' #input()\n",
    "res = s[0]\n",
    "count = 1\n",
    "for i in range(1,len(s)):      \n",
    "    if s[i] == s[i-1]:        \n",
    "        count += 1\n",
    "        if i == len(s)-1:\n",
    "            res = res + str(count)\n",
    "        else:\n",
    "            continue\n",
    "    else:\n",
    "        if count > 1:\n",
    "            res = res + str(count)\n",
    "            count = 1\n",
    "            res = res + s[i]\n",
    "        else:\n",
    "            res = res + s[i]\n",
    "            \n",
    "\n",
    "print(res)\n",
    "    "
   ]
  },
  {
   "cell_type": "code",
   "execution_count": 75,
   "metadata": {},
   "outputs": [
    {
     "name": "stdout",
     "output_type": "stream",
     "text": [
      "abc\n",
      "a1b1c1\n"
     ]
    }
   ],
   "source": [
    "s = input()+\"_\"\n",
    "res = ''\n",
    "count = 1\n",
    "for i in range(len(s)-1):    \n",
    "    if count == 1:\n",
    "        res = res + s[i]\n",
    "    if s[i] == s[i+1]:\n",
    "        count += 1\n",
    "    else:\n",
    "        res = res + str(count)\n",
    "        count = 1\n",
    "print(res)"
   ]
  },
  {
   "cell_type": "code",
   "execution_count": 80,
   "metadata": {},
   "outputs": [
    {
     "name": "stdout",
     "output_type": "stream",
     "text": [
      "abc\n",
      "a1b1c1\n"
     ]
    }
   ],
   "source": [
    "#не мое\n",
    "g = str(input())\n",
    "rep = 1\n",
    "out = g[0]\n",
    "for i in range(1,len(g)):\n",
    "    if g[i] == g[i-1]:\n",
    "        rep +=1\n",
    "    else:\n",
    "        out = out+str(rep)+g[i]\n",
    "        rep=1\n",
    "print(out+str(rep))"
   ]
  },
  {
   "cell_type": "code",
   "execution_count": 79,
   "metadata": {},
   "outputs": [
    {
     "name": "stdout",
     "output_type": "stream",
     "text": [
      "111\n",
      "13"
     ]
    }
   ],
   "source": [
    "#не мое 2\n",
    "genome = input() + ' '\n",
    "s = 0\n",
    "n = genome[0]\n",
    "for i in genome:       \n",
    "    if n != i:\n",
    "        print(n + str(s), end = '')\n",
    "        s = 0\n",
    "        n = i\n",
    "    s += 1"
   ]
  },
  {
   "cell_type": "code",
   "execution_count": 81,
   "metadata": {},
   "outputs": [
    {
     "data": {
      "text/plain": [
       "['Ivan', 'Masha', 'Sasha', 'Olga', 'O', 'l', 'g', 'a']"
      ]
     },
     "execution_count": 81,
     "metadata": {},
     "output_type": "execute_result"
    }
   ],
   "source": [
    "students = ['Ivan', 'Masha', 'Sasha']\n",
    "students += ['Olga']\n",
    "students += 'Olga'\n",
    "students"
   ]
  },
  {
   "cell_type": "code",
   "execution_count": 94,
   "metadata": {},
   "outputs": [
    {
     "name": "stdout",
     "output_type": "stream",
     "text": [
      "1 2 3\n",
      "6\n"
     ]
    }
   ],
   "source": [
    "'''\n",
    "Напишите программу, на вход которой подается одна строка с целыми числами. \n",
    "Программа должна вывести сумму этих чисел.\n",
    "\n",
    "Используйте метод split строки. \n",
    "'''\n",
    "print(sum([int(i) for i in input().split()]))"
   ]
  },
  {
   "cell_type": "code",
   "execution_count": 143,
   "metadata": {},
   "outputs": [
    {
     "name": "stdout",
     "output_type": "stream",
     "text": [
      "2 4 6\n",
      "10 8 6 "
     ]
    }
   ],
   "source": [
    "'''\n",
    "Напишите программу, на вход которой подаётся список чисел одной строкой. \n",
    "Программа должна для каждого элемента этого списка вывести сумму двух его соседей. \n",
    "Для элементов списка, являющихся крайними, одним из соседей считается элемент, \n",
    "находящий на противоположном конце этого списка. Например, если на вход подаётся список \"1 3 5 6 10\", \n",
    "то на выход ожидается список \"13 6 9 15 7\" (без кавычек).\n",
    "\n",
    "Если на вход пришло только одно число, надо вывести его же.\n",
    "Вывод должен содержать одну строку с числами нового списка, разделёнными пробелом.\n",
    "'''\n",
    "\n",
    "l = [int(i) for i in input().split()]\n",
    "if len(l) == 1:\n",
    "    print(l[0])\n",
    "else:\n",
    "    for i in range(len(l)):\n",
    "        s = l[i-1] + l[(i + 1)%len(l)]\n",
    "        print(s, end = \" \")"
   ]
  },
  {
   "cell_type": "code",
   "execution_count": 139,
   "metadata": {},
   "outputs": [
    {
     "data": {
      "text/plain": [
       "0"
      ]
     },
     "execution_count": 139,
     "metadata": {},
     "output_type": "execute_result"
    }
   ],
   "source": [
    "2%1"
   ]
  },
  {
   "cell_type": "code",
   "execution_count": 157,
   "metadata": {
    "collapsed": true
   },
   "outputs": [],
   "source": [
    "'''\n",
    "Напишите программу, которая принимает на вход список чисел в одной строке \n",
    "и выводит на экран в одну строку значения, которые повторяются в нём более одного раза.\n",
    "\n",
    "Для решения задачи может пригодиться метод sort списка.\n",
    "Выводимые числа не должны повторяться, порядок их вывода может быть произвольным.\n",
    "'''\n",
    "l = [1]   #[int(i) for i in input().split()]\n",
    "l.sort()\n",
    "i = 0\n",
    "while i < len(l):\n",
    "    c = l.count(l[i])\n",
    "    if c > 1:        \n",
    "        print(l[i], end = \" \")\n",
    "        i += c\n",
    "    else:\n",
    "        i += 1"
   ]
  },
  {
   "cell_type": "code",
   "execution_count": null,
   "metadata": {
    "collapsed": true
   },
   "outputs": [],
   "source": [
    "#не мое\n",
    "a, b = [int(i) for i in input().split()], []\n",
    "for i in a:\n",
    "    if a.count(i) > 1 and b.count(i) == 0:\n",
    "        b.append(i)\n",
    "for i in b:\n",
    "    print(i, end=\" \")"
   ]
  },
  {
   "cell_type": "code",
   "execution_count": 163,
   "metadata": {},
   "outputs": [
    {
     "name": "stdout",
     "output_type": "stream",
     "text": [
      "[[0, 0, 0], [0, 0, 0], [0, 0, 0]]\n"
     ]
    },
    {
     "data": {
      "text/plain": [
       "[[5, 0, 0], [5, 0, 0], [5, 0, 0]]"
      ]
     },
     "execution_count": 163,
     "metadata": {},
     "output_type": "execute_result"
    }
   ],
   "source": [
    "n = 3\n",
    "a = [[0]*n]*n #так нельзя, т.к. это копия одной и той же строки 3 раза\n",
    "print(a)\n",
    "a[0][0] = 5\n",
    "a"
   ]
  },
  {
   "cell_type": "code",
   "execution_count": 167,
   "metadata": {},
   "outputs": [
    {
     "name": "stdout",
     "output_type": "stream",
     "text": [
      "[[0, 0, 0], [0, 0, 0], [0, 0, 0]]\n"
     ]
    },
    {
     "data": {
      "text/plain": [
       "[[5, 0, 0], [0, 0, 0], [0, 0, 0]]"
      ]
     },
     "execution_count": 167,
     "metadata": {},
     "output_type": "execute_result"
    }
   ],
   "source": [
    "#надо так\n",
    "n = 3\n",
    "a = [[0]*n for i in range(n)]\n",
    "print(a)\n",
    "a[0][0] = 5\n",
    "a"
   ]
  },
  {
   "cell_type": "code",
   "execution_count": 168,
   "metadata": {},
   "outputs": [
    {
     "name": "stdout",
     "output_type": "stream",
     "text": [
      "[[0, 0, 0], [0, 0, 0], [0, 0, 0]]\n"
     ]
    },
    {
     "data": {
      "text/plain": [
       "[[5, 0, 0], [0, 0, 0], [0, 0, 0]]"
      ]
     },
     "execution_count": 168,
     "metadata": {},
     "output_type": "execute_result"
    }
   ],
   "source": [
    "#или так\n",
    "n = 3\n",
    "a = [[0 for i in range(n)] for j in range(n)]\n",
    "print(a)\n",
    "a[0][0] = 5\n",
    "a"
   ]
  },
  {
   "cell_type": "code",
   "execution_count": 20,
   "metadata": {},
   "outputs": [
    {
     "name": "stdout",
     "output_type": "stream",
     "text": [
      "3\n",
      "3\n",
      "3\n",
      "-9\n",
      "108\n"
     ]
    }
   ],
   "source": [
    "'''\n",
    "Напишите программу, которая считывает с консоли числа (по одному в строке) до тех пор, \n",
    "пока сумма введённых чисел не будет равна 0 и сразу после этого выводит сумму квадратов всех считанных чисел.\n",
    "\n",
    "Гарантируется, что в какой-то момент сумма введённых чисел окажется равной 0, \n",
    "после этого считывание продолжать не нужно.\n",
    "\n",
    "В примере мы считываем числа 1, -3, 5, -6, -10, 13; в этот момент замечаем, \n",
    "что сумма этих чисел равна нулю и выводим сумму их квадратов, не обращая внимания на то, \n",
    "что остались ещё не прочитанные значения.\n",
    "'''\n",
    "\n",
    "l = []\n",
    "l.append(int(input()))\n",
    "while sum(l) != 0:\n",
    "    l.append(int(input()))\n",
    "res = 0\n",
    "for i in l:\n",
    "    res += i**2\n",
    "print(res)"
   ]
  },
  {
   "cell_type": "code",
   "execution_count": 11,
   "metadata": {},
   "outputs": [
    {
     "data": {
      "text/plain": [
       "0"
      ]
     },
     "execution_count": 11,
     "metadata": {},
     "output_type": "execute_result"
    }
   ],
   "source": [
    "sum(l)"
   ]
  },
  {
   "cell_type": "code",
   "execution_count": 22,
   "metadata": {},
   "outputs": [
    {
     "name": "stdout",
     "output_type": "stream",
     "text": [
      "9\n",
      "9\n",
      "3\n",
      "-21\n",
      "612\n"
     ]
    }
   ],
   "source": [
    "#не мое\n",
    "s = [int(input())]\n",
    "while sum(s)!= 0: s.append(int(input()))\n",
    "print(sum([i**2 for i in s]))"
   ]
  },
  {
   "cell_type": "code",
   "execution_count": 27,
   "metadata": {},
   "outputs": [
    {
     "name": "stdout",
     "output_type": "stream",
     "text": [
      "11\n",
      "1 2 2 3 3 3 4 4 4 4 5 "
     ]
    }
   ],
   "source": [
    "'''\n",
    "Напишите программу, которая выводит часть последовательности 1 2 2 3 3 3 4 4 4 4 5 5 5 5 5 ... \n",
    "(число повторяется столько раз, чему равно). На вход программе передаётся положительное \n",
    "целое число n — столько элементов последовательности должна отобразить программа. \n",
    "На выходе ожидается последовательность чисел, записанных через пробел в одну строку. \n",
    "\n",
    "Например, если n = 7, то программа должна вывести 1 2 2 3 3 3 4.\n",
    "'''\n",
    "\n",
    "n = int(input())\n",
    "res = [1]\n",
    "if len(res) < n:\n",
    "    for i in range(2, n + 1):\n",
    "        if len(res) == n: break\n",
    "        for j in range(i):\n",
    "            res.append(i)\n",
    "            if len(res) == n: break\n",
    "for i in res: print(i, end = \" \")"
   ]
  },
  {
   "cell_type": "code",
   "execution_count": 28,
   "metadata": {},
   "outputs": [
    {
     "name": "stdout",
     "output_type": "stream",
     "text": [
      "11\n",
      "1 2 2 3 3 3 4 4 4 4 5\n"
     ]
    }
   ],
   "source": [
    "#не мое\n",
    "n = int(input())\n",
    "a = []\n",
    "i = 0\n",
    "while len(a) < n:\n",
    "    a += [i] * i\n",
    "    i += 1\n",
    "print(*a[:n])"
   ]
  },
  {
   "cell_type": "code",
   "execution_count": 37,
   "metadata": {},
   "outputs": [
    {
     "name": "stdout",
     "output_type": "stream",
     "text": [
      "1 2 2 2 3 3 2\n",
      "2\n",
      "1 2 3 6 "
     ]
    }
   ],
   "source": [
    "'''\n",
    "Напишите программу, которая считывает список чисел lst из первой строки и число x из второй строки, \n",
    "которая выводит все позиции, на которых встречается число x в переданном списке lst.\n",
    "\n",
    "Позиции нумеруются с нуля, если число x не встречается в списке, вывести строку \n",
    "\"Отсутствует\" (без кавычек, с большой буквы).\n",
    "\n",
    "Позиции должны быть выведены в одну строку, по возрастанию абсолютного значения.\n",
    "'''\n",
    "lst = [int(i) for i in input().split()]\n",
    "x = int(input())\n",
    "if x not in lst:\n",
    "    print(\"Отсутствует\")\n",
    "else:\n",
    "    for i in range(len(lst)):\n",
    "        if x == lst[i]: print(i, end = \" \")\n"
   ]
  },
  {
   "cell_type": "code",
   "execution_count": 31,
   "metadata": {},
   "outputs": [
    {
     "name": "stdout",
     "output_type": "stream",
     "text": [
      "[1, 2, 3]\n",
      "2\n"
     ]
    }
   ],
   "source": [
    "print(lst)\n",
    "print(x)"
   ]
  },
  {
   "cell_type": "code",
   "execution_count": 61,
   "metadata": {
    "scrolled": true
   },
   "outputs": [
    {
     "name": "stdout",
     "output_type": "stream",
     "text": [
      "1 2 3\n",
      "4 5 6\n",
      "7 8 9\n",
      "end\n",
      "16 17 18 \n",
      "19 20 21 \n",
      "22 23 24 \n"
     ]
    }
   ],
   "source": [
    "'''\n",
    "Напишите программу, на вход которой подаётся прямоугольная матрица в виде последовательности строк, \n",
    "заканчивающихся строкой, содержащей только строку \"end\" (без кавычек)\n",
    "\n",
    "Программа должна вывести матрицу того же размера, у которой каждый элемент в позиции i, j \n",
    "равен сумме элементов первой матрицы на позициях (i-1, j), (i+1, j), (i, j-1), (i, j+1). \n",
    "У крайних символов соседний элемент находится с противоположной стороны матрицы.\n",
    "\n",
    "В случае одной строки/столбца элемент сам себе является соседом по соответствующему направлению.\n",
    "'''\n",
    "\n",
    "#reading input\n",
    "l = [i for i in input().split()]    \n",
    "mtrx = []\n",
    "while \"end\" not in l:\n",
    "    l = [int(i) for i in l]\n",
    "    mtrx.append(l)\n",
    "    l = [i for i in input().split()]\n",
    "    \n",
    "    \n",
    "#printing output\n",
    "m = len(mtrx) #number of lines\n",
    "n = len(mtrx[0]) #number of columns\n",
    "\n",
    "for i in range(m):\n",
    "    for j in range(n):\n",
    "        print(mtrx[i-1][j] + mtrx[i-m+1][j] + mtrx[i][j-1] + mtrx[i][j-n+1], end = \" \")\n",
    "    print()"
   ]
  },
  {
   "cell_type": "code",
   "execution_count": 62,
   "metadata": {},
   "outputs": [
    {
     "data": {
      "text/plain": [
       "[[1, 2, 3], [4, 5, 6], [7, 8, 9]]"
      ]
     },
     "execution_count": 62,
     "metadata": {},
     "output_type": "execute_result"
    }
   ],
   "source": [
    "mtrx"
   ]
  },
  {
   "cell_type": "code",
   "execution_count": null,
   "metadata": {
    "collapsed": true
   },
   "outputs": [],
   "source": []
  }
 ],
 "metadata": {
  "kernelspec": {
   "display_name": "Python 3",
   "language": "python",
   "name": "python3"
  },
  "language_info": {
   "codemirror_mode": {
    "name": "ipython",
    "version": 3
   },
   "file_extension": ".py",
   "mimetype": "text/x-python",
   "name": "python",
   "nbconvert_exporter": "python",
   "pygments_lexer": "ipython3",
   "version": "3.6.2"
  }
 },
 "nbformat": 4,
 "nbformat_minor": 2
}
