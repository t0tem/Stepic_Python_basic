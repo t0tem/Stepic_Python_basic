{
 "cells": [
  {
   "cell_type": "code",
   "execution_count": 3,
   "metadata": {},
   "outputs": [
    {
     "name": "stdout",
     "output_type": "stream",
     "text": [
      "5 4 3 2 1 "
     ]
    }
   ],
   "source": [
    "a = 5\n",
    "while a > 0:\n",
    "    print(a, end = \" \")\n",
    "    a -= 1"
   ]
  },
  {
   "cell_type": "code",
   "execution_count": 4,
   "metadata": {},
   "outputs": [
    {
     "name": "stdout",
     "output_type": "stream",
     "text": [
      "*\n",
      "**\n",
      "*\n",
      "*\n",
      "**\n",
      "*\n",
      "***\n",
      "*\n",
      "**\n",
      "***\n"
     ]
    }
   ],
   "source": [
    "i = 0\n",
    "while i < 5:\n",
    "    print('*')\n",
    "    if i % 2 == 0:\n",
    "        print('**')\n",
    "    if i > 2:\n",
    "        print('***')\n",
    "    i = i + 1"
   ]
  },
  {
   "cell_type": "code",
   "execution_count": 5,
   "metadata": {},
   "outputs": [
    {
     "name": "stdout",
     "output_type": "stream",
     "text": [
      "17\n"
     ]
    }
   ],
   "source": [
    "#не мое\n",
    "i = 0\n",
    "count =''\n",
    "while i < 5:\n",
    "    count +='*'\n",
    "    if i % 2 == 0:\n",
    "        count +='**'\n",
    "    if i > 2:\n",
    "        count +='***'\n",
    "    i = i + 1\n",
    "\n",
    "print(len(count))\n"
   ]
  },
  {
   "cell_type": "code",
   "execution_count": 7,
   "metadata": {},
   "outputs": [
    {
     "name": "stdout",
     "output_type": "stream",
     "text": [
      "0\n",
      "0\n"
     ]
    }
   ],
   "source": [
    "'''\n",
    "Напишите программу, которая считывает со стандартного ввода целые числа, \n",
    "по одному числу в строке, и после первого введенного нуля выводит сумму полученных на вход чисел.\n",
    "'''\n",
    "\n",
    "s = 0\n",
    "a = int(input())\n",
    "while a != 0:\n",
    "    s += a\n",
    "    a = int(input())\n",
    "print(s)"
   ]
  },
  {
   "cell_type": "code",
   "execution_count": 20,
   "metadata": {},
   "outputs": [
    {
     "name": "stdout",
     "output_type": "stream",
     "text": [
      "2\n",
      "3\n",
      "6\n"
     ]
    }
   ],
   "source": [
    "'''\n",
    "Программа должна считывать размеры команд (два положительных целых числа a и b, \n",
    "каждое число вводится на отдельной строке) и выводить наименьшее число d, \n",
    "которое делится на оба этих числа без остатка.\n",
    "'''\n",
    "\n",
    "a, b = int(input()), int(input())\n",
    "d = a\n",
    "while d%a or d%b:\n",
    "    d += 1\n",
    "print(d)"
   ]
  },
  {
   "cell_type": "code",
   "execution_count": 21,
   "metadata": {},
   "outputs": [
    {
     "name": "stdout",
     "output_type": "stream",
     "text": [
      "2\n",
      "3\n",
      "6\n"
     ]
    }
   ],
   "source": [
    "#не мое\n",
    "a = int(input())\n",
    "b = int(input())\n",
    "d = a\n",
    "while d%b:\n",
    "    d += a\n",
    "print(d)"
   ]
  },
  {
   "cell_type": "code",
   "execution_count": 26,
   "metadata": {},
   "outputs": [
    {
     "name": "stdout",
     "output_type": "stream",
     "text": [
      "0 0 \n"
     ]
    }
   ],
   "source": [
    "i = 0\n",
    "while i < 5:\n",
    "    a, b = input().split() #тогда с пробелом\n",
    "    a = int(a)\n",
    "    b = int(b)\n",
    "    if a == 0 and b == 0:\n",
    "        break\n",
    "    print(a*b)\n",
    "    i += 1"
   ]
  },
  {
   "cell_type": "code",
   "execution_count": 27,
   "metadata": {
    "scrolled": true
   },
   "outputs": [
    {
     "data": {
      "text/plain": [
       "7"
      ]
     },
     "execution_count": 27,
     "metadata": {},
     "output_type": "execute_result"
    }
   ],
   "source": [
    "i = 0\n",
    "s = 0\n",
    "while i < 10:\n",
    "    i = i + 1\n",
    "    s = s + i\n",
    "    if s > 15:\n",
    "        break\n",
    "    i = i + 1\n",
    "i"
   ]
  },
  {
   "cell_type": "code",
   "execution_count": 28,
   "metadata": {
    "scrolled": false
   },
   "outputs": [
    {
     "data": {
      "text/plain": [
       "10"
      ]
     },
     "execution_count": 28,
     "metadata": {},
     "output_type": "execute_result"
    }
   ],
   "source": [
    "i = 0\n",
    "s = 0\n",
    "while i < 10:\n",
    "    i = i + 1\n",
    "    s = s + i\n",
    "    if s > 15:\n",
    "        continue\n",
    "    i = i + 1\n",
    "i"
   ]
  },
  {
   "cell_type": "code",
   "execution_count": 30,
   "metadata": {},
   "outputs": [
    {
     "name": "stdout",
     "output_type": "stream",
     "text": [
      "112\n",
      "112\n"
     ]
    }
   ],
   "source": [
    "'''\n",
    "Для каждого введённого числа проверить:\n",
    "если число меньше 10, то пропускаем это число;\n",
    "если число больше 100, то прекращаем считывать числа;\n",
    "в остальных случаях вывести это число обратно на консоль в отдельной строке.\n",
    "'''\n",
    "n = 0\n",
    "while n <= 100:\n",
    "    n = int(input())\n",
    "    if n < 10:\n",
    "        continue\n",
    "    elif n > 100:\n",
    "        break\n",
    "    else:\n",
    "        print(n)"
   ]
  },
  {
   "cell_type": "code",
   "execution_count": 31,
   "metadata": {},
   "outputs": [
    {
     "name": "stdout",
     "output_type": "stream",
     "text": [
      "1\n",
      "1\n",
      "1\n",
      "22\n",
      "22\n",
      "22\n",
      "22\n",
      "22\n",
      "22\n",
      "101\n"
     ]
    }
   ],
   "source": [
    "#не мое\n",
    "a = 0\n",
    "while a <= 100:\n",
    "    a = int(input())\n",
    "    if 10 <= a <= 100:\n",
    "        print(a)"
   ]
  },
  {
   "cell_type": "code",
   "execution_count": null,
   "metadata": {},
   "outputs": [],
   "source": []
  }
 ],
 "metadata": {
  "kernelspec": {
   "display_name": "Python 3",
   "language": "python",
   "name": "python3"
  },
  "language_info": {
   "codemirror_mode": {
    "name": "ipython",
    "version": 3
   },
   "file_extension": ".py",
   "mimetype": "text/x-python",
   "name": "python",
   "nbconvert_exporter": "python",
   "pygments_lexer": "ipython3",
   "version": "3.6.2"
  }
 },
 "nbformat": 4,
 "nbformat_minor": 2
}
