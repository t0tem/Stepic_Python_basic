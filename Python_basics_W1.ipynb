{
 "cells": [
  {
   "cell_type": "code",
   "execution_count": 8,
   "metadata": {},
   "outputs": [
    {
     "data": {
      "text/plain": [
       "True"
      ]
     },
     "execution_count": 8,
     "metadata": {},
     "output_type": "execute_result"
    }
   ],
   "source": [
    "5 < 7"
   ]
  },
  {
   "cell_type": "code",
   "execution_count": 9,
   "metadata": {},
   "outputs": [
    {
     "data": {
      "text/plain": [
       "True"
      ]
     },
     "execution_count": 9,
     "metadata": {},
     "output_type": "execute_result"
    }
   ],
   "source": [
    "x = 5\n",
    "y = 10\n",
    "y > x * x or y >= 2 * x and x < y"
   ]
  },
  {
   "cell_type": "code",
   "execution_count": 10,
   "metadata": {},
   "outputs": [
    {
     "data": {
      "text/plain": [
       "True"
      ]
     },
     "execution_count": 10,
     "metadata": {},
     "output_type": "execute_result"
    }
   ],
   "source": [
    "10 > 25 or 10 >= 10 and 5 < 10"
   ]
  },
  {
   "cell_type": "code",
   "execution_count": 11,
   "metadata": {},
   "outputs": [
    {
     "data": {
      "text/plain": [
       "True"
      ]
     },
     "execution_count": 11,
     "metadata": {},
     "output_type": "execute_result"
    }
   ],
   "source": [
    "False or True and True"
   ]
  },
  {
   "cell_type": "code",
   "execution_count": 12,
   "metadata": {},
   "outputs": [
    {
     "data": {
      "text/plain": [
       "False"
      ]
     },
     "execution_count": 12,
     "metadata": {},
     "output_type": "execute_result"
    }
   ],
   "source": [
    "a = True\n",
    "b = False\n",
    "a and b or not a and not b"
   ]
  },
  {
   "cell_type": "code",
   "execution_count": 20,
   "metadata": {},
   "outputs": [
    {
     "name": "stdout",
     "output_type": "stream",
     "text": [
      "6\n",
      "9\n",
      "2\n",
      "Недосып\n"
     ]
    }
   ],
   "source": [
    "A, B, H = int(input()), int(input()), int(input())\n",
    "if H < A:\n",
    "    print(\"Недосып\")\n",
    "elif H > B:\n",
    "    print(\"Пересып\")\n",
    "else:\n",
    "    print(\"Это нормально\")"
   ]
  },
  {
   "cell_type": "code",
   "execution_count": 24,
   "metadata": {},
   "outputs": [
    {
     "name": "stdout",
     "output_type": "stream",
     "text": [
      "1998\n",
      "Обычный\n"
     ]
    }
   ],
   "source": [
    "Y = int(input())\n",
    "if Y % 4 == 0:\n",
    "    if Y % 100 == 0:\n",
    "        if Y % 400 == 0:\n",
    "            print(\"Високосный\")\n",
    "        else:\n",
    "            print(\"Обычный\")\n",
    "    else:\n",
    "        print(\"Високосный\")\n",
    "else:\n",
    "    print(\"Обычный\")"
   ]
  },
  {
   "cell_type": "code",
   "execution_count": 27,
   "metadata": {},
   "outputs": [
    {
     "data": {
      "text/plain": [
       "False"
      ]
     },
     "execution_count": 27,
     "metadata": {},
     "output_type": "execute_result"
    }
   ],
   "source": [
    "not 1999 % 4"
   ]
  },
  {
   "cell_type": "code",
   "execution_count": 17,
   "metadata": {},
   "outputs": [
    {
     "data": {
      "text/plain": [
       "3"
      ]
     },
     "execution_count": 17,
     "metadata": {},
     "output_type": "execute_result"
    }
   ],
   "source": [
    "1999 % 4"
   ]
  },
  {
   "cell_type": "code",
   "execution_count": 29,
   "metadata": {},
   "outputs": [
    {
     "data": {
      "text/plain": [
       "False"
      ]
     },
     "execution_count": 29,
     "metadata": {},
     "output_type": "execute_result"
    }
   ],
   "source": [
    "not 3"
   ]
  },
  {
   "cell_type": "code",
   "execution_count": 10,
   "metadata": {},
   "outputs": [
    {
     "name": "stdout",
     "output_type": "stream",
     "text": [
      "1\n",
      "1\n",
      "1\n",
      "0.4330127018922193\n"
     ]
    }
   ],
   "source": [
    "#формула Герона\n",
    "a, b, c = int(input()), int(input()), int(input())\n",
    "p = (a + b + c)/2\n",
    "S = (p*(p-a)*(p-b)*(p-c))**0.5\n",
    "print(S)"
   ]
  },
  {
   "cell_type": "code",
   "execution_count": 38,
   "metadata": {
    "scrolled": true
   },
   "outputs": [
    {
     "name": "stdout",
     "output_type": "stream",
     "text": [
      "first \n",
      "\n",
      "\n",
      "second\n"
     ]
    }
   ],
   "source": [
    "print('first', '\\n\\n\\nsecond')"
   ]
  },
  {
   "cell_type": "code",
   "execution_count": 11,
   "metadata": {},
   "outputs": [
    {
     "name": "stdout",
     "output_type": "stream",
     "text": [
      "1\n",
      "True\n"
     ]
    }
   ],
   "source": [
    "'''Напишите программу, принимающую на вход целое число, которая выводит True, \n",
    "если переданное значение попадает в интервал (−15,12]∪(14,17)∪[19,+∞) \n",
    "и False в противном случае (регистр символов имеет значение).'''\n",
    "a = int(input())\n",
    "if -15 < a <= 12 or 14 < a < 17 or 19 <= a:\n",
    "    print(True)\n",
    "else:\n",
    "    print(False)"
   ]
  },
  {
   "cell_type": "code",
   "execution_count": 8,
   "metadata": {},
   "outputs": [
    {
     "name": "stdout",
     "output_type": "stream",
     "text": [
      "-12.0\n",
      "-8.0\n",
      "*\n",
      "96.0\n"
     ]
    }
   ],
   "source": [
    "'''\n",
    "Напишите простой калькулятор, который считывает с пользовательского ввода три строки: \n",
    "первое число, второе число и операцию, после чего применяет операцию к введённым числам \n",
    "(\"первое число\" \"операция\" \"второе число\") и выводит результат на экран.\n",
    "\n",
    "Поддерживаемые операции: +, -, /, *, mod, pow, div, где\n",
    "mod — это взятие остатка от деления,\n",
    "pow — возведение в степень,\n",
    "div — целочисленное деление.\n",
    "\n",
    "Если выполняется деление и второе число равно 0, необходимо выводить строку \"Деление на 0!\".\n",
    "\n",
    "Обратите внимание, что на вход программе приходят вещественные числа.\n",
    "'''\n",
    "a, b, x= float(input()), float(input()), input()\n",
    "\n",
    "if x == \"+\":\n",
    "    print(a+b)\n",
    "elif x == \"-\":\n",
    "    print(a-b)\n",
    "elif x == \"/\":\n",
    "    if b == 0:\n",
    "        print(\"Деление на 0!\")\n",
    "    else:\n",
    "        print(a/b)\n",
    "elif x == \"*\":\n",
    "    print(a*b)\n",
    "elif x == \"mod\":\n",
    "    if b == 0:\n",
    "        print(\"Деление на 0!\")\n",
    "    else:\n",
    "        print(a%b)\n",
    "elif x == \"pow\":\n",
    "    print(a**b)\n",
    "elif x == \"div\":\n",
    "    if b == 0:\n",
    "        print(\"Деление на 0!\")\n",
    "    else:\n",
    "        print(a//b)"
   ]
  },
  {
   "cell_type": "code",
   "execution_count": 14,
   "metadata": {},
   "outputs": [
    {
     "name": "stdout",
     "output_type": "stream",
     "text": [
      "круг\n",
      "5\n",
      "78.5\n"
     ]
    }
   ],
   "source": [
    "'''\n",
    "Жители страны Малевии часто экспериментируют с планировкой комнат. \n",
    "Комнаты бывают треугольные, прямоугольные и круглые. \n",
    "Чтобы быстро вычислять жилплощадь, требуется написать программу, \n",
    "на вход которой подаётся тип фигуры комнаты и соответствующие параметры, \n",
    "которая бы выводила площадь получившейся комнаты.\n",
    "Для числа π в стране Малевии используют значение 3.14.\n",
    "'''\n",
    "\n",
    "type = input()\n",
    "if type == \"треугольник\":\n",
    "    a,b,c = int(input()),int(input()),int(input())\n",
    "    p =  (a + b + c)/2\n",
    "    S = (p*(p-a)*(p-b)*(p-c))**0.5\n",
    "elif type == \"прямоугольник\":\n",
    "    a,b = int(input()),int(input())\n",
    "    S = a * b\n",
    "elif type == \"круг\":\n",
    "    r = int(input())\n",
    "    S = 3.14 * r ** 2\n",
    "print(S)"
   ]
  },
  {
   "cell_type": "code",
   "execution_count": 56,
   "metadata": {},
   "outputs": [
    {
     "name": "stdout",
     "output_type": "stream",
     "text": [
      "1\n",
      "2\n",
      "3\n",
      "3\n",
      "1\n",
      "2\n"
     ]
    }
   ],
   "source": [
    "'''\n",
    "Напишите программу, которая получает на вход три целых числа, по одному числу в строке, \n",
    "и выводит на консоль в три строки сначала максимальное, потом минимальное, после чего оставшееся число.\n",
    "На ввод могут подаваться и повторяющиеся числа.\n",
    "'''\n",
    "\n",
    "a,b,c = int(input()),int(input()),int(input())\n",
    "max = a\n",
    "if b > max: max = b\n",
    "if c > max: max = c\n",
    "\n",
    "min = a\n",
    "if b < min: min = b\n",
    "if c < min: min = c\n",
    "    \n",
    "med = a + b + c - min - max\n",
    "\n",
    "print(max, min, med, sep=\"\\n\")"
   ]
  },
  {
   "cell_type": "code",
   "execution_count": 93,
   "metadata": {
    "scrolled": true
   },
   "outputs": [
    {
     "name": "stdout",
     "output_type": "stream",
     "text": [
      "817\n",
      "817 программистов\n"
     ]
    }
   ],
   "source": [
    "'''\n",
    "Напишите программу, считывающую с пользовательского ввода целое число n (неотрицательное), \n",
    "выводящее это число в консоль вместе с правильным образом изменённым словом \"программист\", \n",
    "для того, чтобы робот мог нормально общаться с людьми, например: 1 программист, 2 программиста, 5 программистов.\n",
    "'''\n",
    "\n",
    "n = int(input())\n",
    "ending = \"\"\n",
    "\n",
    "if 5 <= n%100 <= 20:\n",
    "    ending = \"ов\"\n",
    "elif 2 <= n%10 <= 4:\n",
    "    ending = \"а\"\n",
    "elif n%10 == 0 or n%10 >= 5:\n",
    "    ending = \"ов\"\n",
    "    \n",
    "\n",
    "print(n, \" программист\", ending, sep = \"\")"
   ]
  },
  {
   "cell_type": "code",
   "execution_count": 94,
   "metadata": {},
   "outputs": [
    {
     "name": "stdout",
     "output_type": "stream",
     "text": [
      "5\n",
      "5 программистов\n"
     ]
    }
   ],
   "source": [
    "#не мое\n",
    "n=int(input())\n",
    "print(n,'программист'+\n",
    "      ('ов' if n%10==0 or 4<n%10<10 or 10<n%100<15 else 'а' if 1<n%10<5 else ''))"
   ]
  },
  {
   "cell_type": "code",
   "execution_count": 125,
   "metadata": {},
   "outputs": [
    {
     "name": "stdout",
     "output_type": "stream",
     "text": [
      "090234\n",
      "Счастливый\n"
     ]
    }
   ],
   "source": [
    "'''\n",
    "Паша очень любит кататься на общественном транспорте, а получая билет, сразу проверяет, \n",
    "счастливый ли ему попался. Билет считается счастливым, если сумма первых трех цифр совпадает \n",
    "с суммой последних трех цифр номера билета.\n",
    "Однако Паша очень плохо считает в уме, поэтому попросил вас написать программу, \n",
    "которая проверит равенство сумм и выведет \"Счастливый\", если суммы совпадают, и \"Обычный\", если суммы различны.\n",
    "\n",
    "На вход программе подаётся строка из шести цифр.\n",
    "Выводить нужно только слово \"Счастливый\" или \"Обычный\", с большой буквы.\n",
    "'''\n",
    "n = int(input())\n",
    "\n",
    "a1 = n//10**5\n",
    "a2 = n//10**4 % 10\n",
    "a3 = n//10**3 % 10\n",
    "\n",
    "b1 = n//10**2 % 10\n",
    "b2 = n//10 % 10\n",
    "b3 = n % 10\n",
    "\n",
    "if a1 + a2 + a3 == b1 + b2 + b3:\n",
    "    print(\"Счастливый\")\n",
    "else:\n",
    "    print(\"Обычный\")"
   ]
  },
  {
   "cell_type": "code",
   "execution_count": null,
   "metadata": {},
   "outputs": [],
   "source": [
    "123456"
   ]
  }
 ],
 "metadata": {
  "kernelspec": {
   "display_name": "Python 3",
   "language": "python",
   "name": "python3"
  },
  "language_info": {
   "codemirror_mode": {
    "name": "ipython",
    "version": 3
   },
   "file_extension": ".py",
   "mimetype": "text/x-python",
   "name": "python",
   "nbconvert_exporter": "python",
   "pygments_lexer": "ipython3",
   "version": "3.6.2"
  }
 },
 "nbformat": 4,
 "nbformat_minor": 2
}
