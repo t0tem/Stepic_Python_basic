{
 "cells": [
  {
   "cell_type": "code",
   "execution_count": 1,
   "metadata": {},
   "outputs": [
    {
     "data": {
      "text/plain": [
       "10555"
      ]
     },
     "execution_count": 1,
     "metadata": {},
     "output_type": "execute_result"
    }
   ],
   "source": [
    "def f(n):\n",
    "    return n * 10 + 5\n",
    "\n",
    "f(f(f(10)))"
   ]
  },
  {
   "cell_type": "markdown",
   "metadata": {},
   "source": [
    "Напишите функцию f(x), которая возвращает значение следующей функции, определённой на всей числовой прямой  \n",
    "f(x)=\\begin{cases}1-(x + 2)^2,\\quad &\\text{при } x\\le -2\\\\-\\frac x2 ,\\quad &\\text{при } -2 \\lt  x \\le 2\\\\(x-2)^2 + 1,\\quad &\\text{при }2 \\lt x\\end{cases}\n",
    "Требуется реализовать только функцию, решение не должно осуществлять операций ввода-вывода."
   ]
  },
  {
   "cell_type": "code",
   "execution_count": 4,
   "metadata": {
    "collapsed": true
   },
   "outputs": [],
   "source": [
    "def f(x):\n",
    "    if x <= -2:\n",
    "        return 1 - (x+2)**2\n",
    "    elif -2 < x <= 2:\n",
    "        return -x/2\n",
    "    else:\n",
    "        return (x-2)**2+1"
   ]
  },
  {
   "cell_type": "markdown",
   "metadata": {},
   "source": [
    "Напишите функцию modify_list(l), которая принимает на вход список целых чисел, удаляет из него все нечётные значения, а чётные нацело делит на два. Функция не должна ничего возвращать, требуется только изменение переданного списка, например:\n",
    "```\n",
    "lst = [1, 2, 3, 4, 5, 6]\n",
    "print(modify_list(lst))  # None\n",
    "print(lst)               # [1, 2, 3]\n",
    "modify_list(lst)\n",
    "print(lst)               # [1]\n",
    "\n",
    "lst = [10, 5, 8, 3]\n",
    "modify_list(lst)\n",
    "print(lst)               # [5, 4]\n",
    "```\n",
    "Функция не должна осуществлять ввод/вывод информации."
   ]
  },
  {
   "cell_type": "code",
   "execution_count": 24,
   "metadata": {
    "collapsed": true
   },
   "outputs": [],
   "source": [
    "def modify_list(l):\n",
    "    # put your python code here  \n",
    "    i = len(l)-1\n",
    "    while i > -1:\n",
    "        if l[i]%2 != 0:\n",
    "            del l[i]\n",
    "        else:\n",
    "            l[i] = int(l[i]/2)\n",
    "        i -= 1\n",
    "    "
   ]
  },
  {
   "cell_type": "code",
   "execution_count": 27,
   "metadata": {
    "collapsed": true
   },
   "outputs": [],
   "source": [
    "# не мое\n",
    "def modify_list(l):\n",
    "    l[:] = [i//2 for i in l if not i % 2]"
   ]
  },
  {
   "cell_type": "raw",
   "metadata": {},
   "source": [
    "второе - это обычный генератор списка с условием, можно в интернете почитать.\n",
    "первое - тут логика такая, так как список l в памяти уже есть и его нужно перезаписать, то есть изменить сам объект списка, поэтому тут я делаю срез всего списка от начала до конца и меняю сам объект. если написать просто l = [i//2 for i in l if not i % 2] в данном случае будет создан новый объект, под него выделена память и переменная l будет уже ссылаться на него, а старая ссылка на исходный объект списка сотрется. т.е происходит не изменение объекта, а перенаправление ссылки у переменной l. я не проверял может и такой вариант сработает но подумал что он учтет занимаемую память и выдаст ошибку, так как была задача одна и там подобный подход выдавал ошибку, а сделал l[:] (изменил сам весь объект) все заработало"
   ]
  },
  {
   "cell_type": "code",
   "execution_count": 33,
   "metadata": {
    "collapsed": true
   },
   "outputs": [],
   "source": [
    "# не мое 2\n",
    "def modify_list(l):\n",
    "    for x in l[:]:\n",
    "        if x % 2 == 0:\n",
    "            l.append(x//2)\n",
    "        l.remove(x)"
   ]
  },
  {
   "cell_type": "raw",
   "metadata": {},
   "source": [
    "По факту собираем новый список прямо в хвосте предыдущего, добавляя в конец списка чётные числа, поделенные на 2, а все исходные элементы списка - удаляем.\n",
    "\n",
    "for x in l[:] - перебор элементов ведём по копии списка, полученной с помощью среза, т.к. исходный список мы меняем прямо во время прохода, а в этом случае простой поэлементный перебор \"ломается\"."
   ]
  },
  {
   "cell_type": "raw",
   "metadata": {
    "collapsed": true
   },
   "source": [
    "Напишите функцию update_dictionary(d, key, value), которая принимает на вход словарь d и два числа: key и value.\n",
    "\n",
    "Если ключ key есть в словаре d, то добавьте значение value в список, который хранится по этому ключу. \n",
    "Если ключа key нет в словаре, то нужно добавить значение в список по ключу 2⋅key. Если и ключа 2⋅key нет, \n",
    "то нужно добавить ключ 2⋅key в словарь и сопоставить ему список из переданного элемента [value].\n",
    "\n",
    "Требуется реализовать только эту функцию, кода вне неё не должно быть.\n",
    "Функция не должна вызывать внутри себя функции input и print.\n",
    "\n",
    "Пример работы функции:\n",
    "```\n",
    "d = {}\n",
    "print(update_dictionary(d, 1, -1))  # None\n",
    "print(d)                            # {2: [-1]}\n",
    "update_dictionary(d, 2, -2)\n",
    "print(d)                            # {2: [-1, -2]}\n",
    "update_dictionary(d, 1, -3)\n",
    "print(d)                            # {2: [-1, -2, -3]}\n",
    "```"
   ]
  },
  {
   "cell_type": "code",
   "execution_count": 23,
   "metadata": {
    "collapsed": true
   },
   "outputs": [],
   "source": [
    "def update_dictionary(d, key, value):\n",
    "    if key in d:\n",
    "        d[key].append(value)\n",
    "    elif 2*key in d:\n",
    "        d[2*key].append(value)\n",
    "    else:\n",
    "        d[2*key] = [value]        "
   ]
  },
  {
   "cell_type": "code",
   "execution_count": 24,
   "metadata": {},
   "outputs": [
    {
     "name": "stdout",
     "output_type": "stream",
     "text": [
      "None\n",
      "{2: [-1]}\n",
      "{2: [-1, -2]}\n",
      "{2: [-1, -2, -3]}\n"
     ]
    }
   ],
   "source": [
    "d = {}\n",
    "print(update_dictionary(d, 1, -1))  # None\n",
    "print(d)                            # {2: [-1]}\n",
    "update_dictionary(d, 2, -2)\n",
    "print(d)                            # {2: [-1, -2]}\n",
    "update_dictionary(d, 1, -3)\n",
    "print(d) "
   ]
  },
  {
   "cell_type": "raw",
   "metadata": {
    "collapsed": true
   },
   "source": [
    "Когда Антон прочитал «Войну и мир», ему стало интересно, сколько слов и в каком количестве используется в этой книге.\n",
    "\n",
    "Помогите Антону написать упрощённую версию такой программы, которая сможет подсчитать слова, разделённые пробелом и вывести получившуюся статистику.\n",
    "\n",
    "Программа должна считывать одну строку со стандартного ввода и выводить для каждого уникального слова в этой строке число его повторений (без учёта регистра) в формате \"слово количество\" (см. пример вывода). \n",
    "Порядок вывода слов может быть произвольным, каждое уникальное слово должно выводиться только один раз."
   ]
  },
  {
   "cell_type": "code",
   "execution_count": 35,
   "metadata": {},
   "outputs": [
    {
     "name": "stdout",
     "output_type": "stream",
     "text": [
      "a aa abC aa ac abc bcd a\n",
      "a 2\n",
      "aa 2\n",
      "abc 2\n",
      "ac 1\n",
      "bcd 1\n"
     ]
    }
   ],
   "source": [
    "l = [i.lower() for i in input().split()]   \n",
    "res = {}\n",
    "for i in l:\n",
    "    if i not in res: \n",
    "        res[i] = 1\n",
    "    else:\n",
    "        res[i] +=1\n",
    "\n",
    "for k, v in res.items():\n",
    "    print(k, v)\n"
   ]
  },
  {
   "cell_type": "code",
   "execution_count": 28,
   "metadata": {
    "collapsed": true
   },
   "outputs": [],
   "source": [
    "res = {\"a\": 1}"
   ]
  },
  {
   "cell_type": "code",
   "execution_count": 29,
   "metadata": {
    "collapsed": true
   },
   "outputs": [],
   "source": [
    "res['a'] += 1"
   ]
  },
  {
   "cell_type": "code",
   "execution_count": 30,
   "metadata": {},
   "outputs": [
    {
     "data": {
      "text/plain": [
       "{'a': 2}"
      ]
     },
     "execution_count": 30,
     "metadata": {},
     "output_type": "execute_result"
    }
   ],
   "source": [
    "res"
   ]
  },
  {
   "cell_type": "raw",
   "metadata": {},
   "source": [
    "Имеется реализованная функция f(x), принимающая на вход целое число xx, которая вычисляет некоторое целочисленое значение и возвращает его в качестве результата работы.\n",
    "\n",
    "Функция вычисляется достаточно долго, ничего не выводит на экран, не пишет в файлы и зависит только от переданного аргумента x.\n",
    "\n",
    "Напишите программу, которой на вход в первой строке подаётся число n — количество значений x, для которых требуется узнать значение функции f(x), после чего сами эти n значений, каждое на отдельной строке. Программа должна после каждого введённого значения аргумента вывести соответствующие значения функции f на отдельной строке. \n",
    "\n",
    "Для ускорения вычисления необходимо сохранять уже вычисленные значения функции при известных аргументах.\n",
    "\n",
    "Обратите внимание, что в этой задаче установлено достаточно сильное ограничение в две секунды по времени исполнения кода на тесте. "
   ]
  },
  {
   "cell_type": "code",
   "execution_count": 42,
   "metadata": {},
   "outputs": [
    {
     "name": "stdout",
     "output_type": "stream",
     "text": [
      "1\n",
      "1\n",
      "2\n"
     ]
    }
   ],
   "source": [
    "def f(x): return x + 1\n",
    "n = int(input())\n",
    "x = []\n",
    "for i in range(n):\n",
    "    x.append(int(input()))\n",
    "\n",
    "res = {}\n",
    "for i in x:\n",
    "    if i not in res:\n",
    "        res[i] = f(i)\n",
    "    print(res[i])"
   ]
  },
  {
   "cell_type": "code",
   "execution_count": 41,
   "metadata": {},
   "outputs": [
    {
     "name": "stdout",
     "output_type": "stream",
     "text": [
      "1\n",
      "1\n",
      "2\n"
     ]
    }
   ],
   "source": [
    "def f(x): return x + 1\n",
    "# не мое\n",
    "n=int(input())\n",
    "d={}\n",
    "for i in range(n):\n",
    "    x=int(input())\n",
    "    if x not in d:\n",
    "        d[x]=f(x)   \n",
    "    print(d[x])"
   ]
  },
  {
   "cell_type": "code",
   "execution_count": 49,
   "metadata": {
    "collapsed": true
   },
   "outputs": [],
   "source": [
    "s = open(\"dataset_3363_2.txt\", \"r\").readline().strip() #reading file\n",
    "\n",
    "letters = []\n",
    "numbers = []\n",
    "for i in range(len(s)): #splitting on 2 lists (letters & numbers)\n",
    "    if not s[i].isdigit(): \n",
    "        letters.append(s[i])\n",
    "    else:\n",
    "        if not s[i-1].isdigit():\n",
    "            numbers.append(s[i])\n",
    "        else:\n",
    "            numbers[len(numbers)-1] += s[i]\n",
    "\n",
    "s_out = \"\"\n",
    "for i in range(len(letters)):\n",
    "    s_out += letters[i]*int(numbers[i])\n",
    "    \n",
    "with open(\"out.txt\", \"w\") as ouf:\n",
    "    ouf.write(s_out + \"\\n\")\n",
    "   "
   ]
  },
  {
   "cell_type": "raw",
   "metadata": {
    "collapsed": true
   },
   "source": [
    "0,2,4,7,10,13,16,19,21,23,26,28,30,33,35,38,41,44,46,49,51,53,56,58,60,62"
   ]
  },
  {
   "cell_type": "raw",
   "metadata": {},
   "source": [
    "Напишите программу, которая считывает текст из файла (в файле может быть больше одной строки) и выводит самое частое слово в этом тексте и через пробел то, сколько раз оно встретилось. Если таких слов несколько, вывести лексикографически первое (можно использовать оператор < для строк).\n",
    "\n",
    "Слова, написанные в разных регистрах, считаются одинаковыми."
   ]
  },
  {
   "cell_type": "code",
   "execution_count": 84,
   "metadata": {
    "collapsed": true
   },
   "outputs": [],
   "source": [
    "s = \"\"\n",
    "with open(\"dataset_3363_3.txt\") as inf:\n",
    "    for line in inf:\n",
    "        s += (line.strip() + \" \")\n",
    "s = s.lower().split()\n",
    "m = [s[0], 1] #initiating max word\n",
    "d = {s[0] : 1} #global dict for count\n",
    "\n",
    "for i in range(1, len(s)):\n",
    "    if s[i] in d:\n",
    "        d[s[i]] += 1\n",
    "    else:\n",
    "        d[s[i]] = 1\n",
    "    \n",
    "    if d[s[i]] > m[1] or (d[s[i]] == m[1] and s[i] < m[0]):\n",
    "        m[0] = s[i]\n",
    "        m[1] = d[s[i]]        \n",
    "        \n",
    "with open(\"out2.txt\", \"w\") as ouf:\n",
    "    ouf.write(m[0] + \" \" + str(m[1]) + \"\\n\")\n"
   ]
  },
  {
   "cell_type": "code",
   "execution_count": 96,
   "metadata": {},
   "outputs": [
    {
     "name": "stdout",
     "output_type": "stream",
     "text": [
      "pb 9\n"
     ]
    }
   ],
   "source": [
    "# не мое\n",
    "t = open('dataset_3363_3.txt', 'r')\n",
    "s = t.read().lower().strip().split()\n",
    "y = 0\n",
    "m =''\n",
    "for i in s: # не учтено вот это \"...Если таких слов несколько, вывести лексикографически первое...\"\n",
    "    z = s.count(i)\n",
    "    if z >= y:\n",
    "        y = z\n",
    "        m = i\n",
    "print(m, y)"
   ]
  },
  {
   "cell_type": "raw",
   "metadata": {},
   "source": [
    "Имеется файл с данными по успеваемости абитуриентов. Он представляет из себя набор строк, \n",
    "где в каждой строке записана следующая информация:\n",
    "\n",
    "Фамилия;Оценка_по_математике;Оценка_по_физике;Оценка_по_русскому_языку\n",
    "\n",
    "Поля внутри строки разделены точкой с запятой, оценки — целые числа.\n",
    "Напишите программу, которая считывает файл с подобной структурой и для каждого абитуриента выводит его среднюю оценку по этим трём предметам на отдельной строке, соответствующей этому абитуриенту.\n",
    "\n",
    "Также в конце файла, на отдельной строке, через пробел запишите средние баллы по математике, физике и русскому языку по всем абитуриентам."
   ]
  },
  {
   "cell_type": "code",
   "execution_count": 131,
   "metadata": {
    "collapsed": true
   },
   "outputs": [],
   "source": [
    "l = []\n",
    "with open('dataset_3363_4.txt', 'r') as f:\n",
    "    for line in f:\n",
    "        l += [line.strip().split(\";\")]\n",
    "l = [[student, int(math), int(phys), int(rus)] for student, math, phys, rus in l]\n",
    "\n",
    "by_student = [(math + phys + rus)/3 for student, math, phys, rus in l]\n",
    "\n",
    "av_math = sum([math for student, math, phys, rus in l]) / len(l)\n",
    "av_phys = sum([phys for student, math, phys, rus in l]) / len(l)\n",
    "av_rus = sum([rus for student, math, phys, rus in l]) / len(l)\n",
    "\n",
    "with open(\"out4.txt\", \"w\") as ouf:\n",
    "    for i in by_student:\n",
    "        ouf.write(str(i) + \"\\n\")\n",
    "    ouf.write(str(av_math) + \" \")\n",
    "    ouf.write(str(av_phys) + \" \")\n",
    "    ouf.write(str(av_rus) + \"\\n\")"
   ]
  },
  {
   "cell_type": "code",
   "execution_count": 1,
   "metadata": {
    "collapsed": true
   },
   "outputs": [],
   "source": [
    "# не мое\n",
    "num = 0\n",
    "sums = [0, 0, 0]\n",
    "\n",
    "with open(\"out4_1.txt\", \"w\") as out:\n",
    "    with open(\"dataset_3363_4.txt\", \"r\") as inp:\n",
    "        for line in inp:\n",
    "            lst = line.split(\";\")\n",
    "            average = 0\n",
    "            for i in range(3):\n",
    "                a = int(lst[i + 1])\n",
    "                average += a\n",
    "                sums[i] += a\n",
    "            average /= 3\n",
    "            out.write(str(average) + \"\\n\")\n",
    "            num += 1\n",
    "    for s in sums:\n",
    "        out.write(str(s / num) + \" \")\n",
    "    out.write(\"\\n\")"
   ]
  },
  {
   "cell_type": "code",
   "execution_count": 30,
   "metadata": {},
   "outputs": [
    {
     "name": "stdout",
     "output_type": "stream",
     "text": [
      "10\n",
      "62.83185307179586\n"
     ]
    }
   ],
   "source": [
    "from math import pi\n",
    "print(2*pi*float(input()))"
   ]
  },
  {
   "cell_type": "code",
   "execution_count": 31,
   "metadata": {},
   "outputs": [
    {
     "name": "stdout",
     "output_type": "stream",
     "text": [
      "-f C:\\Users\\vkulagin\\AppData\\Roaming\\jupyter\\runtime\\kernel-e3837c18-219d-4ecf-b3e2-2b1a1ae7bcd0.json\n"
     ]
    }
   ],
   "source": [
    "# не мое\n",
    "import sys\n",
    "print(*sys.argv[1:])"
   ]
  },
  {
   "cell_type": "raw",
   "metadata": {
    "collapsed": true
   },
   "source": [
    "Скачайте файл. В нём указан адрес другого файла, который нужно скачать с использованием модуля requests и посчитать число строк в нём.\n",
    "\n",
    "Используйте функцию get для получения файла (имеет смысл вызвать метод strip к передаваемому параметру, чтобы убрать пробельные символы по краям). \n",
    "\n",
    "После получения файла вы можете проверить результат, обратившись к полю text. Если результат работы скрипта не принимается, проверьте поле url на правильность. Для подсчёта количества строк разбейте текст с помощью метода splitlines.\n",
    "\n",
    "В поле ответа введите одно число или отправьте файл, содержащий одно число."
   ]
  },
  {
   "cell_type": "code",
   "execution_count": 17,
   "metadata": {
    "collapsed": true
   },
   "outputs": [],
   "source": [
    "s = open('dataset_3378_2.txt', 'r').readline().strip()"
   ]
  },
  {
   "cell_type": "code",
   "execution_count": 18,
   "metadata": {},
   "outputs": [
    {
     "data": {
      "text/plain": [
       "30"
      ]
     },
     "execution_count": 18,
     "metadata": {},
     "output_type": "execute_result"
    }
   ],
   "source": [
    "import requests\n",
    "r = requests.get(s)\n",
    "len(r.text.splitlines())"
   ]
  },
  {
   "cell_type": "raw",
   "metadata": {},
   "source": [
    "Имеется набор файлов, каждый из которых, кроме последнего, содержит имя следующего файла.\n",
    "Первое слово в тексте последнего файла: \"We\".\n",
    "\n",
    "Скачайте предложенный файл. В нём содержится ссылка на первый файл из этого набора. \n",
    "\n",
    "Все файлы располагаются в каталоге по адресу:\n",
    "https://stepic.org/media/attachments/course67/3.6.3/\n",
    "\n",
    "Загрузите содержимое последнего файла из набора, как ответ на это задание."
   ]
  },
  {
   "cell_type": "code",
   "execution_count": 62,
   "metadata": {},
   "outputs": [
    {
     "data": {
      "text/plain": [
       "\"We are the champions, my friends,\\nAnd we'll keep on fighting 'til the end.\\nWe are the champions.\\nWe are the champions.\\nNo time for losers\\n'Cause we are the champions of the world.\""
      ]
     },
     "execution_count": 62,
     "metadata": {},
     "output_type": "execute_result"
    }
   ],
   "source": [
    "s = open('dataset_3378_3.txt', 'r').readline().strip()\n",
    "path = \"https://stepic.org/media/attachments/course67/3.6.3/\"\n",
    "\n",
    "import requests\n",
    "f = requests.get(s).text.strip()\n",
    "\n",
    "while f[:2] != 'We':\n",
    "    f = requests.get(path + f).text.strip()\n",
    "f"
   ]
  },
  {
   "cell_type": "code",
   "execution_count": 63,
   "metadata": {},
   "outputs": [
    {
     "name": "stdout",
     "output_type": "stream",
     "text": [
      "We are the champions, my friends,\n",
      "And we'll keep on fighting 'til the end.\n",
      "We are the champions.\n",
      "We are the champions.\n",
      "No time for losers\n",
      "'Cause we are the champions of the world.\n"
     ]
    }
   ],
   "source": [
    "print(f)"
   ]
  },
  {
   "cell_type": "raw",
   "metadata": {},
   "source": [
    "Напишите программу, которая принимает на стандартный вход список игр футбольных команд с результатом матча и выводит на стандартный вывод сводную таблицу результатов всех матчей.\n",
    "\n",
    "За победу команде начисляется 3 очка, за поражение — 0, за ничью — 1.\n",
    "\n",
    "Формат ввода следующий:\n",
    "В первой строке указано целое число n — количество завершенных игр.\n",
    "После этого идет n строк, в которых записаны результаты игры в следующем формате:\n",
    "Первая_команда;Забито_первой_командой;Вторая_команда;Забито_второй_командой\n",
    "\n",
    "Вывод программы необходимо оформить следующим образом:\n",
    "Команда:Всего_игр Побед Ничьих Поражений Всего_очков\n",
    "\n",
    "Конкретный пример ввода-вывода приведён ниже.\n",
    "Порядок вывода команд произвольный.\n",
    "\n",
    "Sample Input:\n",
    "3\n",
    "Зенит;3;Спартак;1\n",
    "Спартак;1;ЦСКА;1\n",
    "ЦСКА;0;Зенит;2\n",
    "\n",
    "Sample Output:\n",
    "Зенит:2 2 0 0 6\n",
    "ЦСКА:2 0 1 1 1\n",
    "Спартак:2 0 1 1 1"
   ]
  },
  {
   "cell_type": "code",
   "execution_count": 115,
   "metadata": {},
   "outputs": [
    {
     "name": "stdout",
     "output_type": "stream",
     "text": [
      "1\n",
      "Зенит;3;Спартак;1\n",
      "Зенит: 1 1 0 0 3\n",
      "Спартак: 1 0 0 1 0\n"
     ]
    }
   ],
   "source": [
    "n = int(input())\n",
    "r = []\n",
    "for i in range(n):\n",
    "    r += [input().split(\";\")]\n",
    "\n",
    "a = {}\n",
    "for i in range(n):\n",
    "    \n",
    "    team1, team2 = r[i][0]+\":\", r[i][2]+\":\"\n",
    "    score1, score2 = int(r[i][1]), int(r[i][3])\n",
    "    \n",
    "    if team1 not in a:        \n",
    "        a[team1] = [0,0,0,0,0] #adding 1st team to the dict in not yet there\n",
    "    a[team1][0] += 1 #adding played game\n",
    "    \n",
    "    if team2 not in a:        \n",
    "        a[team2] = [0,0,0,0,0] #adding 2nd team to the dict in not yet there\n",
    "    a[team2][0] += 1 #adding played game\n",
    "    \n",
    "    # начисляем очки\n",
    "    if score1 > score2:\n",
    "        a[team1][1] += 1\n",
    "        a[team1][4] += 3\n",
    "        a[team2][3] += 1\n",
    "    elif score1 == score2:\n",
    "        a[team1][2] += 1\n",
    "        a[team2][2] += 1\n",
    "        a[team1][4] += 1\n",
    "        a[team2][4] += 1\n",
    "    else:\n",
    "        a[team2][1] += 1\n",
    "        a[team2][4] += 3\n",
    "        a[team1][3] += 1\n",
    "\n",
    "for k, v in a.items():\n",
    "    print(k, *v)"
   ]
  },
  {
   "cell_type": "raw",
   "metadata": {},
   "source": [
    "Напишите программу, которая умеет шифровать и расшифровывать шифр подстановки. Программа принимает на вход две строки одинаковой длины, на первой строке записаны символы исходного алфавита, на второй строке — символы конечного алфавита, после чего идёт строка, которую нужно зашифровать переданным ключом, и ещё одна строка, которую нужно расшифровать."
   ]
  },
  {
   "cell_type": "code",
   "execution_count": 128,
   "metadata": {},
   "outputs": [
    {
     "name": "stdout",
     "output_type": "stream",
     "text": [
      "*d*%*d*#*d*\n",
      "dacabac\n"
     ]
    }
   ],
   "source": [
    "a = \"abcd\" #input()\n",
    "b = \"*d%#\" #input()\n",
    "\n",
    "a1 = \"abacabadaba\" #input()\n",
    "b1 = \"#*%*d*%\" #input()\n",
    "\n",
    "# создаем кодовые книги\n",
    "encr = {}\n",
    "decr = {}\n",
    "for i in range(len(a)):\n",
    "    encr[a[i]] = b[i]\n",
    "    decr[b[i]] = a[i]\n",
    "\n",
    "# функиция перевода\n",
    "def transform(s, book):\n",
    "    res = \"\"\n",
    "    for i in range(len(s)):\n",
    "        res += book[s[i]]\n",
    "    return res\n",
    "\n",
    "print(transform(a1, encr))\n",
    "print(transform(b1, decr))"
   ]
  },
  {
   "cell_type": "code",
   "execution_count": 129,
   "metadata": {},
   "outputs": [
    {
     "name": "stdout",
     "output_type": "stream",
     "text": [
      "*d*%*d*#*d*\n",
      "dacabac\n"
     ]
    }
   ],
   "source": [
    "# не мое\n",
    "\n",
    "a,b,c,d = \"abcd\", \"*d%#\", \"abacabadaba\", \"#*%*d*%\"\n",
    "\n",
    "print(''.join(b[a.index(i)] for i in c))\n",
    "print(''.join(a[b.index(i)] for i in d))"
   ]
  },
  {
   "cell_type": "raw",
   "metadata": {},
   "source": [
    "Через стандартный ввод подаётся следующая структура: первой строкой — количество d записей в списке известных слов, после передаётся  d строк с одним словарным словом на строку, затем — количество l строк текста, после чего — l строк текста.\n",
    "\n",
    "Напишите программу, которая выводит слова из текста, которые не встречаются в словаре. Регистр слов не учитывается. Порядок вывода слов произвольный. Слова, не встречающиеся в словаре, не должны повторяться в выводе программы."
   ]
  },
  {
   "cell_type": "code",
   "execution_count": 172,
   "metadata": {},
   "outputs": [
    {
     "name": "stdout",
     "output_type": "stream",
     "text": [
      "a\n",
      "bb\n",
      "cCc\n",
      "a bb aab aba ccc\n",
      "c bb aaa\n",
      "aaa\n",
      "c\n",
      "aba\n",
      "aab\n"
     ]
    }
   ],
   "source": [
    "n1 = 3 #int(input())\n",
    "\n",
    "a = set()\n",
    "for i in range(n1): a.add(input().lower())\n",
    "    \n",
    "n2 = 2 #int(input())\n",
    "b = set()\n",
    "for i in range(n2): \n",
    "    l = input().lower().split()\n",
    "    for i in l: b.add(i)\n",
    "\n",
    "for i in b:\n",
    "    if not i in a:\n",
    "        print(i)\n"
   ]
  },
  {
   "cell_type": "markdown",
   "metadata": {},
   "source": [
    "## Пример input в set"
   ]
  },
  {
   "cell_type": "code",
   "execution_count": null,
   "metadata": {
    "collapsed": true
   },
   "outputs": [],
   "source": [
    "# не мое\n",
    "\n",
    "dic = {input().lower() for i in range(int(input()))} # вот он!\n",
    "\n",
    "wrd = set()\n",
    "for w in range(int(input())):\n",
    "    wrd |= {i.lower() for i in input().split()}\n",
    "\n",
    "print(*wrd.difference(dic), sep=\"\\n\")\n"
   ]
  },
  {
   "cell_type": "raw",
   "metadata": {
    "collapsed": true
   },
   "source": [
    "Группа биологов в институте биоинформатики завела себе черепашку.\n",
    "\n",
    "После дрессировки черепашка научилась понимать и запоминать указания биологов следующего вида:\n",
    "север 10\n",
    "запад 20\n",
    "юг 30\n",
    "восток 40\n",
    "где первое слово — это направление, в котором должна двигаться черепашка, а число после слова — это положительное расстояние в сантиметрах, которое должна пройти черепашка.\n",
    "\n",
    "Но команды даются быстро, а черепашка ползёт медленно, и программисты догадались, что можно написать программу, которая определит, куда в итоге биологи приведут черепашку. Для этого программисты просят вас написать программу, которая выведет точку, в которой окажется черепашка после всех команд. Для простоты они решили считать, что движение начинается в точке (0, 0), и движение на восток увеличивает первую координату, а на север — вторую.\n",
    "\n",
    "Программе подаётся на вход число команд nn, которые нужно выполнить черепашке, после чего nn строк с самими командами. Вывести нужно два числа в одну строку: первую и вторую координату конечной точки черепашки. Все координаты целочисленные."
   ]
  },
  {
   "cell_type": "code",
   "execution_count": 16,
   "metadata": {},
   "outputs": [
    {
     "name": "stdout",
     "output_type": "stream",
     "text": [
      "юг 77\n",
      "0 -77\n"
     ]
    }
   ],
   "source": [
    "n = 1 #int(input())\n",
    "d = {\"север\": [0, 1], \"юг\": [0, -1], \"восток\": [1, 0], \"запад\": [-1, 0]}\n",
    "c = [0, 0]\n",
    "for i in range(n):\n",
    "    direc, steps = input().split()\n",
    "    for i in range(2):\n",
    "        c[i] += d[direc][i] * int(steps)\n",
    "print(*c)"
   ]
  },
  {
   "cell_type": "code",
   "execution_count": 3,
   "metadata": {},
   "outputs": [
    {
     "name": "stdout",
     "output_type": "stream",
     "text": [
      "1\n",
      "юг 50\n",
      "0 -50\n"
     ]
    }
   ],
   "source": [
    "# не мое\n",
    "cor = {'север': 0, 'восток': 0, 'юг': 0, 'запад': 0}\n",
    "\n",
    "for i in range(int(input())):\n",
    "    s = [j for j in input().split()]\n",
    "    cor[s[0]] += int(s[1])\n",
    "\n",
    "print(cor['восток']-cor['запад'], cor['север']-cor['юг'])"
   ]
  },
  {
   "cell_type": "raw",
   "metadata": {},
   "source": [
    "Дан файл с таблицей в формате TSV с информацией о росте школьников разных классов.\n",
    "Напишите программу, которая прочитает этот файл и подсчитает для каждого класса средний рост учащегося.\n",
    "\n",
    "Файл состоит из набора строк, каждая из которых представляет собой три поля:\n",
    "Класс Фамилия Рост\n",
    "\n",
    "Класс обозначается только числом. Буквенные модификаторы не используются. Номер класса может быть от 1 до 11 включительно. В фамилии нет пробелов, а в качестве роста используется натуральное число, но при подсчёте среднего требуется вычислить значение в виде вещественного числа.\n",
    "Выводить информацию о среднем росте следует в порядке возрастания номера класса (для классов с первого по одиннадцатый). Если про какой-то класс нет информации, необходимо вывести напротив него прочерк."
   ]
  },
  {
   "cell_type": "code",
   "execution_count": 42,
   "metadata": {},
   "outputs": [
    {
     "name": "stdout",
     "output_type": "stream",
     "text": [
      "1 125.3\n",
      "2 129.66666666666666\n",
      "3 135.125\n",
      "4 140.0\n",
      "5 145.66666666666666\n",
      "6 155.30769230769232\n",
      "7 159.54545454545453\n",
      "8 167.30769230769232\n",
      "9 170.25\n",
      "10 170.23076923076923\n",
      "11 173.58333333333334\n"
     ]
    }
   ],
   "source": [
    "l = [i.split(\"\\t\") for i in open('dataset_3380_5.txt', 'r').read().splitlines()]\n",
    "for i in range(1,12):\n",
    "    h = [int(height) for classs, name, height in l if classs==str(i)]\n",
    "    if len(h) == 0: h = \"-\"\n",
    "    else: h = sum(h)/len(h)\n",
    "    print(i, h)"
   ]
  },
  {
   "cell_type": "code",
   "execution_count": 1,
   "metadata": {
    "collapsed": true
   },
   "outputs": [],
   "source": [
    "from numpy import * "
   ]
  },
  {
   "cell_type": "code",
   "execution_count": 2,
   "metadata": {
    "collapsed": true
   },
   "outputs": [],
   "source": [
    "from matplotlib import * "
   ]
  },
  {
   "cell_type": "code",
   "execution_count": null,
   "metadata": {
    "collapsed": true
   },
   "outputs": [],
   "source": []
  }
 ],
 "metadata": {
  "kernelspec": {
   "display_name": "Python 3",
   "language": "python",
   "name": "python3"
  },
  "language_info": {
   "codemirror_mode": {
    "name": "ipython",
    "version": 3
   },
   "file_extension": ".py",
   "mimetype": "text/x-python",
   "name": "python",
   "nbconvert_exporter": "python",
   "pygments_lexer": "ipython3",
   "version": "3.6.2"
  }
 },
 "nbformat": 4,
 "nbformat_minor": 2
}
