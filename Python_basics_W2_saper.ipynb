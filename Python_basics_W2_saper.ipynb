{
 "cells": [
  {
   "cell_type": "code",
   "execution_count": 7,
   "metadata": {},
   "outputs": [
    {
     "name": "stdout",
     "output_type": "stream",
     "text": [
      "5 4 4\n",
      "1 1\n",
      "2 2\n",
      "3 3\n",
      "4 4\n",
      "*21.\n",
      "2*21\n",
      "12*2\n",
      ".12*\n",
      "..11\n"
     ]
    }
   ],
   "source": [
    "n, m, k = (int(i) for i in input().split())  # чтение размеров поля и числа мин\n",
    "a = [[0 for j in range(m)] for i in range(n)]  # заполнение поля нулями\n",
    "for i in range(k):\n",
    "    row, col = (int(i) - 1 for i in input().split())\n",
    "    a[row][col] = -1  # расставляем мины\n",
    "for i in range(n):\n",
    "    for j in range(m):\n",
    "        if a[i][j] == 0:  # в этой клетке мины нет, поэтому считаем число мин вокруг\n",
    "            for di in range(-1, 2):\n",
    "                for dj in range(-1, 2):\n",
    "                    ai = i + di\n",
    "                    aj = j + dj\n",
    "                    # (ai, aj)\n",
    "                    if 0 <= ai < n and 0 <= aj < m and a[ai][aj] == -1:\n",
    "                        a[i][j] += 1\n",
    "# вывод результата\n",
    "for i in range(n):\n",
    "    for j in range(m):\n",
    "        if a[i][j] == -1:\n",
    "            print('*', end='')\n",
    "        elif a[i][j] == 0:\n",
    "            print('.', end='')\n",
    "        else:\n",
    "            print(a[i][j], end='')\n",
    "    print()"
   ]
  },
  {
   "cell_type": "code",
   "execution_count": 10,
   "metadata": {},
   "outputs": [
    {
     "data": {
      "text/plain": [
       "5"
      ]
     },
     "execution_count": 10,
     "metadata": {},
     "output_type": "execute_result"
    }
   ],
   "source": [
    "len(a)"
   ]
  },
  {
   "cell_type": "code",
   "execution_count": null,
   "metadata": {},
   "outputs": [],
   "source": []
  }
 ],
 "metadata": {
  "kernelspec": {
   "display_name": "Python 3",
   "language": "python",
   "name": "python3"
  },
  "language_info": {
   "codemirror_mode": {
    "name": "ipython",
    "version": 3
   },
   "file_extension": ".py",
   "mimetype": "text/x-python",
   "name": "python",
   "nbconvert_exporter": "python",
   "pygments_lexer": "ipython3",
   "version": "3.6.2"
  }
 },
 "nbformat": 4,
 "nbformat_minor": 2
}
